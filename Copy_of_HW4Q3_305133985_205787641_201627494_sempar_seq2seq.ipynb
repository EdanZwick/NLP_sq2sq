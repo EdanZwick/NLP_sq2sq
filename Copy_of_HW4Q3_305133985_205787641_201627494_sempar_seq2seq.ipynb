{
  "nbformat": 4,
  "nbformat_minor": 0,
  "metadata": {
    "accelerator": "GPU",
    "colab": {
      "name": "Copy of HW4Q3_305133985_205787641_201627494_sempar_seq2seq.ipynb",
      "provenance": [],
      "collapsed_sections": [],
      "toc_visible": true,
      "include_colab_link": true
    },
    "kernelspec": {
      "display_name": "Python 3",
      "name": "python3"
    }
  },
  "cells": [
    {
      "cell_type": "markdown",
      "metadata": {
        "id": "view-in-github",
        "colab_type": "text"
      },
      "source": [
        "<a href=\"https://colab.research.google.com/github/EdanZwick/NLP_sq2sq/blob/main/Copy_of_HW4Q3_305133985_205787641_201627494_sempar_seq2seq.ipynb\" target=\"_parent\"><img src=\"https://colab.research.google.com/assets/colab-badge.svg\" alt=\"Open In Colab\"/></a>"
      ]
    },
    {
      "cell_type": "markdown",
      "metadata": {
        "id": "vWgkabpzFCkQ"
      },
      "source": [
        "# Semantic Parsing with Sequence to Sequence Models"
      ]
    },
    {
      "cell_type": "markdown",
      "metadata": {
        "id": "K2ez_GsjFPse"
      },
      "source": [
        "In this assignment we will use sequence to sequence (seq2seq) models to tackle a semantic parsing dataset. We will implement increasingly complex models and observe their increasingly better performance.\n"
      ]
    },
    {
      "cell_type": "markdown",
      "metadata": {
        "id": "BPyq3FF4Bmkm"
      },
      "source": [
        "To begin copy this notebook to your own drive:\n",
        "\n",
        "![image.png](data:image/png;base64,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)\n",
        "\n",
        "### Submission Instructions:\n",
        "1. **Download the notebook** (in the menubar, select File$\\rightarrow$Download .ipynb)\n",
        "2. **Upload the downloaded notebook (.ipynb file) to your repository**.\n",
        "\n",
        "Make sure you fill in any place that says `YOUR CODE HERE`, and that no tests fail.  "
      ]
    },
    {
      "cell_type": "markdown",
      "metadata": {
        "id": "-1xUCYzadwwN"
      },
      "source": [
        "## Dataset\n",
        "We will use the geoqueries880 dataset. The original dataset can be found [here](https://www.cs.utexas.edu/users/ml/nldata/geoquery.html), but we will use the version from Data Recombination for Neural Semantic Parsing [(Jia & Liang, 2016)](https://stanford.edu/~robinjia/pdf/jia2016recombination.pdf).\n",
        "As a semantic parsing dataset, geo880 maps natural language sentences to their 'logical form', which in our case is a query string to be fed to a database.\n",
        "\n",
        "### Sample training example\n",
        "natural language sentence:  \n",
        "`what states border kentucky ?`  \n",
        "logical form (query string):  \n",
        "`_answer ( A , ( _state ( A ) , _next_to ( A , B ) , _const ( B , _stateid ( kentucky ) ) ) )`\n",
        "\n",
        "The result of feeding the query string into the database is called the \"execution\". For example, the execution of the above query string could be:  \n",
        "`indiana, ohio, west viginia, virginia, tennessee, missouri, illinois`\n",
        "\n",
        "Recall from class that mapping between natural sentences and executions (as opposed to logical forms) is known as \"weak supervision\" (or \"light supervision\"). For simplicity, we will ignore the execution part, and map between natural sentences and query strings, as in our version of geo880. This is known as \"strong supervision\" (or, as referred to in the lecture slides, \"heavy supervision\")."
      ]
    },
    {
      "cell_type": "markdown",
      "metadata": {
        "id": "adGQ1PzqvPQV"
      },
      "source": [
        "## Initial Setup"
      ]
    },
    {
      "cell_type": "code",
      "metadata": {
        "id": "0TPE10PivHqf"
      },
      "source": [
        "from collections import Counter\n",
        "import math\n",
        "import os\n",
        "import random\n",
        "import time\n",
        "\n",
        "import matplotlib.pyplot as plt\n",
        "import numpy as np\n",
        "\n",
        "import torch\n",
        "import torch.nn as nn\n",
        "from torch import optim\n",
        "import torch.nn.functional as F\n",
        "\n",
        "device = torch.device(\"cuda\" if torch.cuda.is_available() else \"cpu\")"
      ],
      "execution_count": 1,
      "outputs": []
    },
    {
      "cell_type": "code",
      "metadata": {
        "id": "1LOAwYWCvz1Q"
      },
      "source": [
        "# For reproducibility\n",
        "def set_random_seeds():\n",
        "    torch.manual_seed(1407)\n",
        "    random.seed(1411)\n",
        "    np.random.seed(1710)"
      ],
      "execution_count": 2,
      "outputs": []
    },
    {
      "cell_type": "markdown",
      "metadata": {
        "id": "O9g21lLptynw"
      },
      "source": [
        "## Preprocessing\n",
        "Before implementing the seq2seq models, we first need to prepare our data. We have already implemented utilities for this end, albeit simple ones."
      ]
    },
    {
      "cell_type": "markdown",
      "metadata": {
        "id": "dUY-bpNayaWQ"
      },
      "source": [
        "### Helper utilities"
      ]
    },
    {
      "cell_type": "code",
      "metadata": {
        "id": "fCqotH_vuDXU"
      },
      "source": [
        "SOS_IDX = 0\n",
        "SOS_STR = '<SOS>'\n",
        "EOS_IDX = 1\n",
        "EOS_STR = '<EOS>'\n",
        "UNK_IDX = 2\n",
        "UNK_STR = '<UNK>'\n",
        "\n",
        "class Vocab:\n",
        "    def __init__(self, sentences, name, unk_threshold=1):\n",
        "        self.name = name\n",
        "        self.unk_threshold = unk_threshold\n",
        "\n",
        "        self.word_counts = Counter()\n",
        "        self.i2t = {SOS_IDX: SOS_STR, EOS_IDX: EOS_STR, UNK_IDX: UNK_STR}\n",
        "        self.t2i = None\n",
        "        self._parallel_index_mapping = None\n",
        "\n",
        "        self._count_words(sentences)\n",
        "        self._create_token_mappings()\n",
        "\n",
        "    def _count_words(self, sentences):\n",
        "        for sentence in sentences:\n",
        "            self.word_counts.update(sentence.split(' '))\n",
        "\n",
        "    def _create_token_mappings(self):\n",
        "        n_fixed_tokens = len(self.i2t)\n",
        "        words_above_threshold = [word for word, count in self.word_counts.items()\n",
        "                                 if count > self.unk_threshold]\n",
        "        self.i2t.update(enumerate(words_above_threshold, start=n_fixed_tokens))\n",
        "        self.t2i = {index: token for token, index in self.i2t.items()}\n",
        "        self.n_tokens = len(self.t2i)\n",
        "\n",
        "    def set_parallel_vocab(self, other_vocab):  # only relevant for the copying model\n",
        "        parallel_index_mapping = {}\n",
        "        for other_token in other_vocab.t2i:\n",
        "            if other_token in self.t2i:\n",
        "                parallel_index_mapping[other_vocab.t2i[other_token]] = self.t2i[other_token]\n",
        "        print(f'parallel_index_mapping = {parallel_index_mapping}')\n",
        "        print(f'other_vocab.i2t = {other_vocab.i2t}')\n",
        "        print(f'other_vocab.t2i = {other_vocab.t2i}')\n",
        "        self._parallel_index_mapping = parallel_index_mapping\n",
        "\n",
        "    def get_index_from_parallel_index(self, parallel_index):  # for use with the copying model\n",
        "        \"\"\"\n",
        "        given an index `parallel_index` from a another vocab, returns the this vocab's index of the\n",
        "        corresponding token.\n",
        "\n",
        "        For example, if vocab_logical has the token 'kentucky' mapped to index 10, and vocab_natural\n",
        "        has the token kentucky mapped to index 20, then if self=vocab_logical, we get\n",
        "        get_index_from_parallel_index(20) returns 10.\n",
        "\n",
        "        This method should only be used after a call to set_parallel_vocab was\n",
        "        previously made.\n",
        "        \"\"\"\n",
        "        return self._parallel_index_mapping.get(parallel_index, UNK_IDX)\n",
        "\n",
        "    def sentence_to_tensor(self, sentence):\n",
        "        words = sentence.split(' ')\n",
        "        indices = [self.t2i.get(word, self.t2i[UNK_STR]) for word in words]\n",
        "        indices.append(self.t2i[EOS_STR])\n",
        "        return torch.tensor(indices, dtype=torch.long, device=device).view(-1, 1)"
      ],
      "execution_count": 3,
      "outputs": []
    },
    {
      "cell_type": "code",
      "metadata": {
        "id": "LBJ7fXIuyRLy"
      },
      "source": [
        "def _load_sentence_pairs(path):\n",
        "    with open(path) as f:\n",
        "        lines = f.read().strip().split('\\n')\n",
        "    pairs = [[s for s in l.split('\\t')] for l in lines]\n",
        "    return pairs\n",
        "\n",
        "\n",
        "def _create_vocabs(pairs, unk_threshold=1):\n",
        "    print(\"Creating vocabularies...\")\n",
        "    natural_sentences, logical_sentences = zip(*pairs)\n",
        "\n",
        "    vocab_natural = Vocab(natural_sentences, 'natural', unk_threshold)\n",
        "    vocab_logical = Vocab(logical_sentences, 'logical', unk_threshold)\n",
        "\n",
        "    print(f'# natural tokens: {vocab_natural.n_tokens}')\n",
        "    print(f'# logical tokens: {vocab_logical.n_tokens}')\n",
        "\n",
        "    \n",
        "    vocab_logical.set_parallel_vocab(vocab_natural)\n",
        "    print(vocab_logical.get_index_from_parallel_index(9))\n",
        "\n",
        "    return vocab_natural, vocab_logical\n",
        "\n",
        "\n",
        "def load_data(train_path, dev_path):\n",
        "    train_sentences = _load_sentence_pairs(train_path)\n",
        "\n",
        "    vocab_natural, vocab_logical = _create_vocabs(train_sentences)\n",
        "\n",
        "    dev_sentences = _load_sentence_pairs(dev_path)\n",
        "\n",
        "    return train_sentences, dev_sentences, vocab_natural, vocab_logical"
      ],
      "execution_count": 4,
      "outputs": []
    },
    {
      "cell_type": "markdown",
      "metadata": {
        "id": "j9IjiiqzxfdK"
      },
      "source": [
        "### Loading the data"
      ]
    },
    {
      "cell_type": "code",
      "metadata": {
        "colab": {
          "base_uri": "https://localhost:8080/"
        },
        "id": "XqyAaJUHyqsf",
        "outputId": "61eff373-c964-4098-f06e-26b05ebc671e"
      },
      "source": [
        "!wget https://raw.githubusercontent.com/tau-nlp-course/NLP_HW4/master/data/geo880_dev100.tsv\n",
        "!wget https://raw.githubusercontent.com/tau-nlp-course/NLP_HW4/master/data/geo880_train500.tsv\n",
        "ROOT_DIR = '/content/'\n",
        "TRAIN_SET_PATH = os.path.join(ROOT_DIR, \"geo880_train500.tsv\")\n",
        "DEV_SET_PATH = os.path.join(ROOT_DIR, \"geo880_dev100.tsv\")\n",
        "\n",
        "\n",
        "train_sentences, dev_sentences, vocab_natural, vocab_logical = load_data(TRAIN_SET_PATH, DEV_SET_PATH)"
      ],
      "execution_count": 5,
      "outputs": [
        {
          "output_type": "stream",
          "text": [
            "--2021-01-28 17:32:42--  https://raw.githubusercontent.com/tau-nlp-course/NLP_HW4/master/data/geo880_dev100.tsv\n",
            "Resolving raw.githubusercontent.com (raw.githubusercontent.com)... 151.101.0.133, 151.101.64.133, 151.101.128.133, ...\n",
            "Connecting to raw.githubusercontent.com (raw.githubusercontent.com)|151.101.0.133|:443... connected.\n",
            "HTTP request sent, awaiting response... 200 OK\n",
            "Length: 14596 (14K) [text/plain]\n",
            "Saving to: ‘geo880_dev100.tsv’\n",
            "\n",
            "geo880_dev100.tsv   100%[===================>]  14.25K  --.-KB/s    in 0s      \n",
            "\n",
            "2021-01-28 17:32:42 (52.3 MB/s) - ‘geo880_dev100.tsv’ saved [14596/14596]\n",
            "\n",
            "--2021-01-28 17:32:42--  https://raw.githubusercontent.com/tau-nlp-course/NLP_HW4/master/data/geo880_train500.tsv\n",
            "Resolving raw.githubusercontent.com (raw.githubusercontent.com)... 151.101.0.133, 151.101.64.133, 151.101.128.133, ...\n",
            "Connecting to raw.githubusercontent.com (raw.githubusercontent.com)|151.101.0.133|:443... connected.\n",
            "HTTP request sent, awaiting response... 200 OK\n",
            "Length: 72493 (71K) [text/plain]\n",
            "Saving to: ‘geo880_train500.tsv’\n",
            "\n",
            "geo880_train500.tsv 100%[===================>]  70.79K  --.-KB/s    in 0.001s  \n",
            "\n",
            "2021-01-28 17:32:42 (47.3 MB/s) - ‘geo880_train500.tsv’ saved [72493/72493]\n",
            "\n",
            "Creating vocabularies...\n",
            "# natural tokens: 184\n",
            "# logical tokens: 118\n",
            "parallel_index_mapping = {0: 0, 1: 1, 2: 2, 9: 14, 17: 19, 26: 26, 37: 31, 39: 32, 41: 33, 43: 24, 45: 36, 48: 39, 54: 41, 59: 42, 64: 45, 65: 46, 67: 48, 68: 49, 69: 51, 70: 52, 73: 54, 84: 62, 85: 63, 86: 64, 89: 65, 91: 67, 94: 68, 96: 70, 98: 72, 99: 73, 100: 74, 102: 75, 103: 76, 104: 77, 107: 78, 108: 79, 109: 80, 110: 81, 112: 82, 113: 83, 114: 84, 115: 85, 118: 86, 119: 87, 120: 88, 121: 89, 123: 90, 126: 91, 127: 96, 136: 93, 137: 94, 138: 95, 145: 98, 147: 99, 148: 100, 151: 101, 155: 102, 158: 103, 162: 104, 163: 105, 167: 107, 168: 109, 169: 110, 171: 111, 172: 112, 174: 113, 175: 114, 176: 115, 177: 116, 178: 117}\n",
            "other_vocab.i2t = {0: '<SOS>', 1: '<EOS>', 2: '<UNK>', 3: 'what', 4: 'is', 5: 'the', 6: 'highest', 7: 'point', 8: 'in', 9: 'florida', 10: '?', 11: 'are', 12: 'high', 13: 'points', 14: 'of', 15: 'states', 16: 'surrounding', 17: 'mississippi', 18: 'state', 19: 'has', 20: 'shortest', 21: 'river', 22: 'tallest', 23: 'mountain', 24: 'united', 25: 'capital', 26: 'maine', 27: 'populations', 28: 'through', 29: 'which', 30: 'run', 31: 'name', 32: 'all', 33: 'lakes', 34: 'us', 35: 'border', 36: 'traverses', 37: 'alaska', 38: 'population', 39: 'illinois', 40: 'rivers', 41: 'colorado', 42: 'does', 43: 'usa', 44: 'city', 45: 'denver', 46: 'located', 47: 'lowest', 48: 'texas', 49: 'how', 50: 'many', 51: 'have', 52: 'a', 53: 'called', 54: 'rochester', 55: 'capitals', 56: 'that', 57: 'people', 58: 'live', 59: 'austin', 60: 'named', 61: 'size', 62: 'major', 63: 'cities', 64: 'kentucky', 65: 'oregon', 66: 'elevation', 67: 'south', 68: 'carolina', 69: 'atlanta', 70: 'utah', 71: 'runs', 72: 'most', 73: 'sacramento', 74: 'you', 75: 'tell', 76: 'me', 77: 'smallest', 78: 'peak', 79: 'long', 80: 'largest', 81: 'area', 82: 'longest', 83: 'where', 84: 'new', 85: 'mount', 86: 'california', 87: 'borders', 88: 'citizens', 89: 'alabama', 90: 'biggest', 91: 'iowa', 92: 'cross', 93: 'flows', 94: 'kansas', 95: 'density', 96: 'pennsylvania', 97: 'not', 98: 'nebraska', 99: 'rhode', 100: 'island', 101: 'with', 102: 'york', 103: 'tennessee', 104: 'arizona', 105: 'neighboring', 106: 'for', 107: 'michigan', 108: 'montana', 109: 'washington', 110: 'dc', 111: 'populous', 112: 'hawaii', 113: 'san', 114: 'delaware', 115: 'louisiana', 116: 'country', 117: 'give', 118: 'north', 119: 'des', 120: 'moines', 121: 'wyoming', 122: 'bordering', 123: 'idaho', 124: 'running', 125: 'it', 126: 'springfield', 127: 'missouri', 128: 'populated', 129: 'number', 130: 'average', 131: 'per', 132: 'square', 133: 'km', 134: 'america', 135: 'total', 136: 'wisconsin', 137: 'indiana', 138: 'arkansas', 139: 'passes', 140: 'no', 141: 'kilometers', 142: 'flow', 143: 'higher', 144: 'than', 145: 'ohio', 146: 'whose', 147: 'dallas', 148: 'massachusetts', 149: 'length', 150: 'can', 151: 'minnesota', 152: 'by', 153: 'greatest', 154: 'there', 155: 'virginia', 156: 'big', 157: 'contains', 158: 'dakota', 159: 'towns', 160: 'next', 161: 'to', 162: 'boulder', 163: 'nevada', 164: 'show', 165: 'combined', 166: 'least', 167: 'seattle', 168: 'albany', 169: 'hampshire', 170: 'sparsest', 171: 'mexico', 172: 'maryland', 173: 'do', 174: 'valley', 175: 'rio', 176: 'grande', 177: 'boston', 178: 'kalamazoo', 179: 'one', 180: 'other', 181: 'excluding', 182: 'and', 183: 'on'}\n",
            "other_vocab.t2i = {'<SOS>': 0, '<EOS>': 1, '<UNK>': 2, 'what': 3, 'is': 4, 'the': 5, 'highest': 6, 'point': 7, 'in': 8, 'florida': 9, '?': 10, 'are': 11, 'high': 12, 'points': 13, 'of': 14, 'states': 15, 'surrounding': 16, 'mississippi': 17, 'state': 18, 'has': 19, 'shortest': 20, 'river': 21, 'tallest': 22, 'mountain': 23, 'united': 24, 'capital': 25, 'maine': 26, 'populations': 27, 'through': 28, 'which': 29, 'run': 30, 'name': 31, 'all': 32, 'lakes': 33, 'us': 34, 'border': 35, 'traverses': 36, 'alaska': 37, 'population': 38, 'illinois': 39, 'rivers': 40, 'colorado': 41, 'does': 42, 'usa': 43, 'city': 44, 'denver': 45, 'located': 46, 'lowest': 47, 'texas': 48, 'how': 49, 'many': 50, 'have': 51, 'a': 52, 'called': 53, 'rochester': 54, 'capitals': 55, 'that': 56, 'people': 57, 'live': 58, 'austin': 59, 'named': 60, 'size': 61, 'major': 62, 'cities': 63, 'kentucky': 64, 'oregon': 65, 'elevation': 66, 'south': 67, 'carolina': 68, 'atlanta': 69, 'utah': 70, 'runs': 71, 'most': 72, 'sacramento': 73, 'you': 74, 'tell': 75, 'me': 76, 'smallest': 77, 'peak': 78, 'long': 79, 'largest': 80, 'area': 81, 'longest': 82, 'where': 83, 'new': 84, 'mount': 85, 'california': 86, 'borders': 87, 'citizens': 88, 'alabama': 89, 'biggest': 90, 'iowa': 91, 'cross': 92, 'flows': 93, 'kansas': 94, 'density': 95, 'pennsylvania': 96, 'not': 97, 'nebraska': 98, 'rhode': 99, 'island': 100, 'with': 101, 'york': 102, 'tennessee': 103, 'arizona': 104, 'neighboring': 105, 'for': 106, 'michigan': 107, 'montana': 108, 'washington': 109, 'dc': 110, 'populous': 111, 'hawaii': 112, 'san': 113, 'delaware': 114, 'louisiana': 115, 'country': 116, 'give': 117, 'north': 118, 'des': 119, 'moines': 120, 'wyoming': 121, 'bordering': 122, 'idaho': 123, 'running': 124, 'it': 125, 'springfield': 126, 'missouri': 127, 'populated': 128, 'number': 129, 'average': 130, 'per': 131, 'square': 132, 'km': 133, 'america': 134, 'total': 135, 'wisconsin': 136, 'indiana': 137, 'arkansas': 138, 'passes': 139, 'no': 140, 'kilometers': 141, 'flow': 142, 'higher': 143, 'than': 144, 'ohio': 145, 'whose': 146, 'dallas': 147, 'massachusetts': 148, 'length': 149, 'can': 150, 'minnesota': 151, 'by': 152, 'greatest': 153, 'there': 154, 'virginia': 155, 'big': 156, 'contains': 157, 'dakota': 158, 'towns': 159, 'next': 160, 'to': 161, 'boulder': 162, 'nevada': 163, 'show': 164, 'combined': 165, 'least': 166, 'seattle': 167, 'albany': 168, 'hampshire': 169, 'sparsest': 170, 'mexico': 171, 'maryland': 172, 'do': 173, 'valley': 174, 'rio': 175, 'grande': 176, 'boston': 177, 'kalamazoo': 178, 'one': 179, 'other': 180, 'excluding': 181, 'and': 182, 'on': 183}\n",
            "14\n"
          ],
          "name": "stdout"
        }
      ]
    },
    {
      "cell_type": "markdown",
      "metadata": {
        "id": "sN7hrxpc3FnI"
      },
      "source": [
        "Below is a random example from `train_sentences` and `dev_sentences`:"
      ]
    },
    {
      "cell_type": "code",
      "metadata": {
        "colab": {
          "base_uri": "https://localhost:8080/"
        },
        "id": "3DrUi1Xy3VxB",
        "outputId": "708a6f18-a7d4-47fd-b2f3-c0935798bb80"
      },
      "source": [
        "print(f'training example:\\n{random.choice(train_sentences)}')\n",
        "print()\n",
        "print(f'dev example:\\n{random.choice(dev_sentences)}')"
      ],
      "execution_count": 6,
      "outputs": [
        {
          "output_type": "stream",
          "text": [
            "training example:\n",
            "['how many states border hawaii ?', '_answer ( A , _count ( B , ( _state ( B ) , _next_to ( B , C ) , _const ( C , _stateid ( hawaii ) ) ) , A ) )']\n",
            "\n",
            "dev example:\n",
            "['how many cities are in louisiana ?', '_answer ( A , _count ( B , ( _city ( B ) , _loc ( B , C ) , _const ( C , _stateid ( louisiana ) ) ) , A ) )']\n"
          ],
          "name": "stdout"
        }
      ]
    },
    {
      "cell_type": "markdown",
      "metadata": {
        "id": "aF2GBWWX383G"
      },
      "source": [
        "As you can see, each example is a list of length 2 where the first element is a natural language sentence and the second element is its corresponding query string. In both sentences, all words are separated by a space.\n",
        "\n",
        "The `Vocab` objects, `vocab_natural` and `vocab_logical`, each represent a vocabulary of tokens from the corresponding 'natural language' and 'query string' domains. When creating the vocabularies, each word that occurrs less than 2 times (`unk_threshold=1`) in the training set is considered an unknown (`<UNK>`) token. Note that even though there are shared tokens between them, each vocabulary was created based on a single domain (natural/query)."
      ]
    },
    {
      "cell_type": "markdown",
      "metadata": {
        "id": "6TWsicCp6CvE"
      },
      "source": [
        "### 'Special' strings in the logical domain\n",
        "observe the query string from the following training example:"
      ]
    },
    {
      "cell_type": "code",
      "metadata": {
        "id": "PpqiDqdt6ZTl",
        "colab": {
          "base_uri": "https://localhost:8080/"
        },
        "outputId": "b537dad5-eac2-42b3-b9e7-0b43bd090b19"
      },
      "source": [
        "print(train_sentences[24])"
      ],
      "execution_count": 7,
      "outputs": [
        {
          "output_type": "stream",
          "text": [
            "['what is the highest elevation in south carolina ?', \"_answer ( A , _highest ( A , ( _place ( A ) , _loc ( A , B ) , _const ( B , _stateid ( ' south carolina ' ) ) ) ) )\"]\n"
          ],
          "name": "stdout"
        }
      ]
    },
    {
      "cell_type": "markdown",
      "metadata": {
        "id": "BDSqdYPg6po8"
      },
      "source": [
        "Note that ` ' south carolina ' ` could be seen as a single logical token, just like `kentucky`. However, in our simple tokenization scheme, this word is tokenized into 4 different tokens: `'`, `south`, `carolina` and `'`. This hurts performance, but will probably make the implementation in later stages easier."
      ]
    },
    {
      "cell_type": "markdown",
      "metadata": {
        "id": "HAx86KpK8He8"
      },
      "source": [
        "## Simple Seq2seq Model\n",
        "In this part we will implement a simple encoder-decoder model, similar to v1.0 from class. In addition to the class slides, a good reference material for seq2seq models is [Jay Alammar](https://jalammar.github.io/visualizing-neural-machine-translation-mechanics-of-seq2seq-models-with-attention/). It contains helpful animations explaining our v1.0 seq2seq model, in addition to the v2.0 model (attention) that we will implement later."
      ]
    },
    {
      "cell_type": "markdown",
      "metadata": {
        "id": "4VqPq43H9Q9m"
      },
      "source": [
        "### Encoder\n",
        "Our encoder is very simple, using a [GRU](https://pytorch.org/docs/stable/nn.html#gru) to encode the natural language sentence. Note that the `input_size` parameter of the `GRU` is not the length of the input, but the dimension of the input vector at every timestep."
      ]
    },
    {
      "cell_type": "markdown",
      "metadata": {
        "id": "KMiHRC1D-u8N"
      },
      "source": [
        "### Question 1.1\n",
        "Implement the `forward` method of `EncoderRNN`.  \n",
        "To implement, just pass the embedded input through the GRU and return the output and the hidden state. You can use the class slides and Jay Alammar as a reference."
      ]
    },
    {
      "cell_type": "code",
      "metadata": {
        "id": "ZdkLejDn9f9n"
      },
      "source": [
        "class EncoderRNN(nn.Module):\n",
        "    def __init__(self, input_size, hidden_size, vocab):\n",
        "        super().__init__()\n",
        "        self.hidden_size = hidden_size\n",
        "        self.vocab = vocab\n",
        "\n",
        "        self.embedding = nn.Embedding(self.vocab.n_tokens, hidden_size)\n",
        "        self.gru = nn.GRU(input_size, hidden_size)\n",
        "\n",
        "    def forward(self, input, h_0):\n",
        "        ### YOUR CODE HERE\n",
        "        embedded_input = self.embedding(input)\n",
        "        output, h_0 = self.gru(embedded_input, h_0)\n",
        "        ### --------------\n",
        "        return output, h_0\n",
        "\n",
        "    def init_hidden(self):\n",
        "        return torch.zeros(1, 1, self.hidden_size, device=device)"
      ],
      "execution_count": 8,
      "outputs": []
    },
    {
      "cell_type": "markdown",
      "metadata": {
        "id": "Etlzvi8T_S8X"
      },
      "source": [
        "### Simple decoder\n",
        "Unlike the encoder, our decoder uses a [GRUCell](https://pytorch.org/docs/stable/nn.html#grucell) and not a GRU. This is because while decoding, we want to be able to control the input of the decoder in each timestep (e.g. [\"teacher forcing\"](https://towardsdatascience.com/what-is-teacher-forcing-3da6217fed1c)).  \n",
        "In addition, there are two additional parameter matrices in `DecoderSimple`.  \n",
        "The first is `W_p`, and is used to project the last hidden state of the encoder to the decoder space, as the their hidden dimensions are not necessarily equal (albeit in our case they _are_ equal).  \n",
        "The second is `W_s`, and is used as $W^{(s)}$ from class.  \n",
        "You can ignore the `uses_copying` attribute, as it will only be relevant in question 3."
      ]
    },
    {
      "cell_type": "markdown",
      "metadata": {
        "id": "UJI1_Fe1EZbR"
      },
      "source": [
        "### Question 1.2\n",
        "Implement the `forward` method of `DecoderSimple`.  \n",
        " You can use the class slides and Jay Alammar as a reference.  \n",
        "Don't forget to address the `evaluation_mode` parameter, as the input to `GRUCell` could depend on whether we are training or evaluating. It is your choice if and how to use teacher forcing during training, but at least some usage of teacher forcing is highly recommended."
      ]
    },
    {
      "cell_type": "code",
      "metadata": {
        "id": "HEnQtakP_euX"
      },
      "source": [
        "class DecoderSimple(nn.Module):\n",
        "    def __init__(self, input_size, hidden_size, vocab, **kwargs):\n",
        "        super().__init__()\n",
        "        self.input_size = input_size\n",
        "        self.hidden_size = hidden_size\n",
        "        self.vocab = vocab\n",
        "        self.output_size = self.vocab.n_tokens\n",
        "\n",
        "        self.uses_copying = False\n",
        "\n",
        "        self.embedding = nn.Embedding(self.output_size, self.hidden_size)\n",
        "\n",
        "        # for projecting the last hidden state of the encoder to the decoder space,\n",
        "        # as the first decoder hidden state, in case the two dimensions don't match\n",
        "        self.W_p = nn.Linear(enc_hidden_size, hidden_size)\n",
        "\n",
        "        self.gru_cell = nn.GRUCell(self.input_size, self.hidden_size)\n",
        "\n",
        "        # for output\n",
        "        self.W_s = nn.Linear(self.hidden_size, self.output_size)\n",
        "\n",
        "    def forward(self, targets, h, evaluation_mode=False, **kwargs):\n",
        "        ### YOUR CODE HERE\n",
        "        # initializing\n",
        "        outputs = []\n",
        "        decoder_hidden = self.W_p(h).squeeze(0)\n",
        "        decoder_input = self.embedding(torch.tensor([SOS_IDX], device=device))\n",
        "\n",
        "        if evaluation_mode:\n",
        "         for i in range(200):\n",
        "           # run the grucell\n",
        "           decoder_hidden = self.gru_cell(decoder_input, decoder_hidden)\n",
        "           decoder_output = self.W_s(decoder_hidden)\n",
        "           outputs.append(decoder_output)\n",
        "\n",
        "           # prepare for next step\n",
        "           decoder_input = self.embedding(decoder_output.argmax(-1))\n",
        "            \n",
        "           if EOS_IDX == torch.argmax(decoder_output, dim=1):\n",
        "             break\n",
        "        \n",
        "        else:\n",
        "          for target in targets:\n",
        "            # run the grucell\n",
        "            decoder_hidden = self.gru_cell(decoder_input, decoder_hidden)\n",
        "            decoder_output = self.W_s(decoder_hidden)\n",
        "            outputs.append(decoder_output)\n",
        "\n",
        "            decoder_input = self.embedding(target)\n",
        "\n",
        "        outputs = torch.cat(outputs)\n",
        "        ### --------------\n",
        "        return outputs"
      ],
      "execution_count": 9,
      "outputs": []
    },
    {
      "cell_type": "markdown",
      "metadata": {
        "id": "AfhjamNaHPsc"
      },
      "source": [
        "## Training\n",
        "To simplify debugging, we always use a batch size of 1. Note that just as our simple tokenization scheme, using a batch size of 1 (where we could probably train all examples in one batch) will hurt performance.\n",
        "\n",
        "During training, we pass the tokenized natural sentence through the encoder, and pass the final encoder hidden state (as well as additional arguments in later, more complex, models) to the decoder. Then, we use the decoder output the calculate the loss with a `criterion`, and perform backpropagation.\n",
        "\n",
        "Until question 3, you can ignore the `if dec.uses_copying:` condition and assume it is always false. You will implement this part in question 3.2."
      ]
    },
    {
      "cell_type": "code",
      "metadata": {
        "id": "atqrArR2H6nF"
      },
      "source": [
        "def train_single_example(input_tensor, target_tensor, enc, dec,\n",
        "                         enc_optimizer, dec_optimizer, criterion):\n",
        "    encoder_hidden_first = enc.init_hidden()\n",
        "\n",
        "    enc_optimizer.zero_grad()\n",
        "    dec_optimizer.zero_grad()\n",
        "\n",
        "    input_length = input_tensor.size(0)\n",
        "    target_length = target_tensor.size(0)\n",
        "\n",
        "    encoder_outputs, encoder_h_m = enc(input_tensor, encoder_hidden_first)\n",
        "\n",
        "    decoder_hidden = encoder_h_m\n",
        "\n",
        "    decoder_outputs = dec(target_tensor, decoder_hidden, enc_input=input_tensor, enc_outputs=encoder_outputs)\n",
        "\n",
        "    if dec.uses_copying:\n",
        "        ### YOUR CODE HERE\n",
        "        num_query_tokens = dec.vocab.n_tokens\n",
        "        # first start with a onehot representation of output, without concidering copying\n",
        "        criterion_target = F.one_hot(target_tensor.view(-1), num_classes = input_length + num_query_tokens)\n",
        "        # check each word in the target if it was copied\n",
        "        for location, token in enumerate(target_tensor[:-1]):\n",
        "          # get token in input vocab\n",
        "          pararlel_token = dec.vocab.get_index_from_parallel_index(token)\n",
        "          # check if this word appeared in output\n",
        "          appearances = (input_tensor == pararlel_token).nonzero()\n",
        "          for copy_location in appearances:\n",
        "            criterion_target[location, num_query_tokens + copy_location] = 1\n",
        "          criterion_target = criterion_target.type_as(decoder_outputs)\n",
        "        ### --------------\n",
        "    else:\n",
        "        criterion_target = target_tensor.view(-1)\n",
        "\n",
        "    loss = criterion(decoder_outputs, criterion_target)\n",
        "\n",
        "    loss.backward()\n",
        "\n",
        "    enc_optimizer.step()\n",
        "    dec_optimizer.step()\n",
        "\n",
        "    return loss.item() / target_length"
      ],
      "execution_count": 69,
      "outputs": []
    },
    {
      "cell_type": "markdown",
      "metadata": {
        "id": "HamkvLCsKqdj"
      },
      "source": [
        "After each epoch, we can save the current model in the `parameters/` directory using the `save` parameter in `train`.\n"
      ]
    },
    {
      "cell_type": "code",
      "metadata": {
        "id": "Y-ZV0QnrLszy"
      },
      "source": [
        "!mkdir -p /content/parameters\n",
        "PARAMETERS_DIR = os.path.join(ROOT_DIR, 'parameters')\n",
        "\n",
        "def save_model(enc, dec, epoch, postfix=''):\n",
        "    torch.save(enc, os.path.join(PARAMETERS_DIR, f'enc_{epoch}{postfix}.pt'))\n",
        "    torch.save(dec, os.path.join(PARAMETERS_DIR, f'dec_{epoch}{postfix}.pt'))"
      ],
      "execution_count": 11,
      "outputs": []
    },
    {
      "cell_type": "markdown",
      "metadata": {
        "id": "fOE1H2D_T-dI"
      },
      "source": [
        "Simple utility functions for printing the status of the training:"
      ]
    },
    {
      "cell_type": "code",
      "metadata": {
        "id": "Cw_E25wPT8UM"
      },
      "source": [
        "def asMinutes(s):\n",
        "    m = math.floor(s / 60)\n",
        "    s -= m * 60\n",
        "    return '%dm %ds' % (m, s)\n",
        "\n",
        "\n",
        "def timeSince(since, percent):\n",
        "    now = time.time()\n",
        "    s = now - since\n",
        "    es = s / percent\n",
        "    rs = es - s\n",
        "    return '%s (%s)' % (asMinutes(s), asMinutes(rs))"
      ],
      "execution_count": 12,
      "outputs": []
    },
    {
      "cell_type": "markdown",
      "metadata": {
        "id": "CiLIJtWSMBYc"
      },
      "source": [
        "When training, we can use the `patience` parameter to stop the training if our results on the dev set didn't improve for `patience` number of epoch. The default, -1, means training for `n_epochs` regardless of the results."
      ]
    },
    {
      "cell_type": "code",
      "metadata": {
        "id": "QrTor1PDKqsA"
      },
      "source": [
        "def train(n_epochs, train_set, dev_set, enc, dec, criterion,\n",
        "          patience=-1, save=True, print_sentences=False):\n",
        "    start = time.time()\n",
        "\n",
        "    train_accuracies = []\n",
        "    losses = []\n",
        "    epoch_loss = 0  # Reset every epoch\n",
        "\n",
        "    dev_accuracies = []\n",
        "    best_dev_accuracy = 0\n",
        "    epochs_without_improvement = 0  # for early stopping (patience)\n",
        "\n",
        "    encoder_optimizer = optim.Adam(enc.parameters())\n",
        "    decoder_optimizer = optim.Adam(dec.parameters())\n",
        "\n",
        "    for epoch in range(1, n_epochs + 1):\n",
        "        random.shuffle(train_set)\n",
        "\n",
        "        for natural_string, logical_string in train_set:\n",
        "            input_tensor = enc.vocab.sentence_to_tensor(natural_string)\n",
        "            target_tensor = dec.vocab.sentence_to_tensor(logical_string)\n",
        "      \n",
        "            loss = train_single_example(input_tensor, target_tensor, enc, dec,\n",
        "                                        encoder_optimizer, decoder_optimizer, criterion)\n",
        "            epoch_loss += loss\n",
        "\n",
        "        average_loss = epoch_loss / len(train_set)\n",
        "        losses.append(average_loss)\n",
        "        epoch_loss = 0\n",
        "\n",
        "        train_accuracy = evaluate(train_set, enc, dec, print_sentences)\n",
        "        train_accuracies.append(train_accuracy)\n",
        "\n",
        "        dev_accuracy = evaluate(dev_set, enc, dec, print_sentences)\n",
        "        dev_accuracies.append(dev_accuracy)\n",
        "\n",
        "        print(f'Epoch #{epoch}:\\n'\n",
        "              f'Loss: {average_loss:.4f}\\n'\n",
        "              f'Train accuracy: {train_accuracy:.3f}\\n'\n",
        "              f'Dev accuracy: {dev_accuracy:.3f}\\n'\n",
        "              f'Time elapsed (remaining): {timeSince(start, epoch / n_epochs)}')\n",
        "\n",
        "        if save:\n",
        "            save_model(enc, dec, epoch)\n",
        "\n",
        "        if dev_accuracy > best_dev_accuracy:\n",
        "            best_dev_accuracy = dev_accuracy\n",
        "        else:\n",
        "            epochs_without_improvement += 1\n",
        "            if epochs_without_improvement == patience:\n",
        "                print(f'Training didn\\'t improve for {patience} epochs\\n'\n",
        "                      f'Stopped Training at epoch {epoch}\\n'\n",
        "                      f'Best epoch: {epoch - patience}')\n",
        "                break\n",
        "\n",
        "    return losses, train_accuracies, dev_accuracies"
      ],
      "execution_count": 13,
      "outputs": []
    },
    {
      "cell_type": "markdown",
      "metadata": {
        "id": "Xn36fyCXRZrV"
      },
      "source": [
        "### Plotting the accuracies\n",
        "Using the return values of `train`, we can use `plot_accuracies` to create a plot of our performance on the train and dev sets during training."
      ]
    },
    {
      "cell_type": "code",
      "metadata": {
        "id": "zGBdUpLOSaKr"
      },
      "source": [
        "!mkdir -p /content/figures\n",
        "FIGURES_DIR = os.path.join(ROOT_DIR, 'figures')\n",
        "\n",
        "def plot_accuracies(train_accs, dev_accs, model_name):\n",
        "\n",
        "    plt.clf()\n",
        "    plt.title(model_name)\n",
        "    plt.xlabel('epoch')\n",
        "    plt.ylabel('accuracy')\n",
        "\n",
        "    plt.plot(train_accs, label='train')\n",
        "    plt.plot(dev_accs, label='dev')\n",
        "\n",
        "    plt.xticks(range(len(train_accs)), range(1, len(train_accs) + 1))\n",
        "    plt.yticks(np.around(np.linspace(0.0, 1.0, num=11), decimals=1))\n",
        "\n",
        "    plt.legend()\n",
        "    plt.grid(True)\n",
        "    plt.savefig(os.path.join(FIGURES_DIR, f'{model_name}.png'))\n",
        "\n",
        "    plt.show()"
      ],
      "execution_count": 14,
      "outputs": []
    },
    {
      "cell_type": "markdown",
      "metadata": {
        "id": "7B7xG0KQOC_H"
      },
      "source": [
        "## Evaluation\n",
        "\n",
        "When evaluating, we perform a procedure similar to training, with the following differences:  \n",
        "* We do not perform backpropagation or compute gradients.\n",
        "* At each timestep of the decoder, the input is determined by the `if evaluation_mode:` clause of the `forward` method in the previous timestep (recall Question 1.2). In class, we saw using the most probable token (argmax) from the output of the previous timestep as an input of the current timestep.\n",
        "* The outputs of the decoder, containing indices of the predicted tokens, are transformed into strings to create the predicted query string.\n",
        "\n",
        "Our evaluation metric is \"exact match\": a prediction is correct only if it is identical to the target query string.\n",
        "\n",
        "Until question 3, you can ignore the `if dec.uses_copying:` condition and assume it is always false. You will implement this part in question 3.3."
      ]
    },
    {
      "cell_type": "code",
      "metadata": {
        "id": "hGU2H__DOFvR"
      },
      "source": [
        "def evaluate(sentences, enc, dec, print_sentences=True):\n",
        "    total = 0\n",
        "    correct = 0\n",
        "\n",
        "    with torch.no_grad():\n",
        "        for pair in sentences:\n",
        "            input_sentence, target_sentence = pair\n",
        "            input_tensor = enc.vocab.sentence_to_tensor(input_sentence)\n",
        "            target_tensor = dec.vocab.sentence_to_tensor(target_sentence)\n",
        "\n",
        "            encoder_hidden_first = enc.init_hidden()\n",
        "\n",
        "            encoder_outputs, encoder_h_m = enc(input_tensor, encoder_hidden_first)\n",
        "\n",
        "            decoder_hidden = encoder_h_m\n",
        "\n",
        "            decoder_outputs = dec(target_tensor, decoder_hidden,\n",
        "                                  enc_outputs=encoder_outputs, enc_input=input_tensor,\n",
        "                                  evaluation_mode=True)\n",
        "            decoded_indices = torch.argmax(decoder_outputs, dim=1)\n",
        "\n",
        "            if dec.uses_copying:\n",
        "                ### YOUR CODE HERE\n",
        "                # Maximal index for decoder output (anything overthis will be copied)\n",
        "                max_output_token = dec.vocab.n_tokens\n",
        "                decoded_tokens = []\n",
        "                input_words = input_sentence.split(' ')\n",
        "                print('****************')\n",
        "                print(decoder_outputs)\n",
        "                print('###########################')\n",
        "                print('input:', input_sentence, len(input_words), sep=' ')\n",
        "                print('words in output vocab:', max_output_token, sep = ' ')\n",
        "                print('output shape:', decoder_outputs.shape, sep =' ')\n",
        "                print('arg maxes: ', decoded_indices, sep = ' ')\n",
        "                for idx in decoded_indices:\n",
        "                  if idx < max_output_token:\n",
        "                    decoded_tokens.append(dec.vocab.i2t[idx.item()])\n",
        "                  else:\n",
        "                    print('token = ', idx - max_output_token, sep = ' ')\n",
        "                    decoded_tokens.append(input_words[idx - max_output_token])\n",
        "                \n",
        "                # decoded_tokens = [dec.vocab.i2t[idx.item()] if idx < max_output_token else input_words[idx - max_output_token]  for idx in decoded_indices]\n",
        "                ### --------------\n",
        "\n",
        "            else:\n",
        "                decoded_tokens = [dec.vocab.i2t[idx.item()] for idx in decoded_indices]\n",
        "\n",
        "            decoded_sentence = ' '.join(decoded_tokens[:-1])  # ignore the EOS token\n",
        "\n",
        "            if decoded_sentence == target_sentence:\n",
        "                correct += 1\n",
        "            total += 1\n",
        "\n",
        "            if print_sentences:\n",
        "                print(f'input:    {input_sentence}')\n",
        "                print(f'expected: {target_sentence}')\n",
        "                print(f'result:   {decoded_sentence}')\n",
        "\n",
        "    accuracy = correct / total\n",
        "    return accuracy"
      ],
      "execution_count": 72,
      "outputs": []
    },
    {
      "cell_type": "markdown",
      "metadata": {
        "id": "o2NexHdXSoyH"
      },
      "source": [
        "### Testing Question 1\n",
        "To test your implementation of the simple model, you can run the following two cells. **Make sure to use the GPU and not the CPU: `Runtime`->`Change runtime type`->`Hardware accelerator`->`GPU`**.  \n",
        "\n",
        "Note that we expect a dev accuracy of at least 30 sometime until epoch 40 (could be a lot earlier). Your code will be run with several initial seeds, and therefore the 30 dev accuracy is expected on average.  \n",
        "Use the `nn.CrossEntropyLoss` criterion.\n",
        "\n",
        "To compare implementations during debugging, you can use the `set_random_seeds()` function.\n",
        "\n",
        "**Add the output figure, `ROOT/figures/simple_decoder.png`, to your written solution pdf file!** "
      ]
    },
    {
      "cell_type": "code",
      "metadata": {
        "id": "j2zy_W_qVCR0"
      },
      "source": [
        "# general settings, to be used with all the models\n",
        "enc_input_size = 256\n",
        "enc_hidden_size = 256\n",
        "\n",
        "dec_input_size = 256\n",
        "dec_hidden_size = 256\n",
        "\n",
        "n_epochs = 40"
      ],
      "execution_count": 16,
      "outputs": []
    },
    {
      "cell_type": "code",
      "metadata": {
        "colab": {
          "base_uri": "https://localhost:8080/",
          "height": 1000
        },
        "id": "J473umolVHVE",
        "outputId": "0f68989c-3d9a-4ab2-df15-d8d25e17dd2b"
      },
      "source": [
        "# print('--- Training Simple Model ---')\n",
        "enc1 = EncoderRNN(enc_input_size, enc_hidden_size, vocab_natural).to(device)\n",
        "dec1 = DecoderSimple(dec_input_size, dec_hidden_size, vocab_logical).to(device)\n",
        "criterion1 = nn.CrossEntropyLoss()\n",
        "\n",
        "losses1, train_accs1, dev_accs1 = train(n_epochs, train_sentences, dev_sentences,\n",
        "                                        enc1, dec1, criterion1)\n",
        "plot_accuracies(train_accs1, dev_accs1, 'simple_decoder')"
      ],
      "execution_count": 73,
      "outputs": [
        {
          "output_type": "stream",
          "text": [
            "Epoch #1:\n",
            "Loss: 0.0237\n",
            "Train accuracy: 0.004\n",
            "Dev accuracy: 0.000\n",
            "Time elapsed (remaining): 0m 16s (10m 57s)\n",
            "Epoch #2:\n",
            "Loss: 0.0127\n",
            "Train accuracy: 0.016\n",
            "Dev accuracy: 0.000\n",
            "Time elapsed (remaining): 0m 32s (10m 26s)\n",
            "Epoch #3:\n",
            "Loss: 0.0098\n",
            "Train accuracy: 0.046\n",
            "Dev accuracy: 0.020\n",
            "Time elapsed (remaining): 0m 49s (10m 8s)\n",
            "Epoch #4:\n",
            "Loss: 0.0079\n",
            "Train accuracy: 0.070\n",
            "Dev accuracy: 0.050\n",
            "Time elapsed (remaining): 1m 5s (9m 50s)\n",
            "Epoch #5:\n",
            "Loss: 0.0066\n",
            "Train accuracy: 0.106\n",
            "Dev accuracy: 0.090\n",
            "Time elapsed (remaining): 1m 21s (9m 33s)\n",
            "Epoch #6:\n",
            "Loss: 0.0057\n",
            "Train accuracy: 0.170\n",
            "Dev accuracy: 0.120\n",
            "Time elapsed (remaining): 1m 38s (9m 18s)\n",
            "Epoch #7:\n",
            "Loss: 0.0049\n",
            "Train accuracy: 0.194\n",
            "Dev accuracy: 0.080\n",
            "Time elapsed (remaining): 1m 55s (9m 4s)\n"
          ],
          "name": "stdout"
        },
        {
          "output_type": "error",
          "ename": "KeyboardInterrupt",
          "evalue": "ignored",
          "traceback": [
            "\u001b[0;31m---------------------------------------------------------------------------\u001b[0m",
            "\u001b[0;31mKeyboardInterrupt\u001b[0m                         Traceback (most recent call last)",
            "\u001b[0;32m<ipython-input-73-96bdee228318>\u001b[0m in \u001b[0;36m<module>\u001b[0;34m()\u001b[0m\n\u001b[1;32m      5\u001b[0m \u001b[0;34m\u001b[0m\u001b[0m\n\u001b[1;32m      6\u001b[0m losses1, train_accs1, dev_accs1 = train(n_epochs, train_sentences, dev_sentences,\n\u001b[0;32m----> 7\u001b[0;31m                                         enc1, dec1, criterion1)\n\u001b[0m\u001b[1;32m      8\u001b[0m \u001b[0mplot_accuracies\u001b[0m\u001b[0;34m(\u001b[0m\u001b[0mtrain_accs1\u001b[0m\u001b[0;34m,\u001b[0m \u001b[0mdev_accs1\u001b[0m\u001b[0;34m,\u001b[0m \u001b[0;34m'simple_decoder'\u001b[0m\u001b[0;34m)\u001b[0m\u001b[0;34m\u001b[0m\u001b[0;34m\u001b[0m\u001b[0m\n",
            "\u001b[0;32m<ipython-input-13-94a7e2ef05f2>\u001b[0m in \u001b[0;36mtrain\u001b[0;34m(n_epochs, train_set, dev_set, enc, dec, criterion, patience, save, print_sentences)\u001b[0m\n\u001b[1;32m     22\u001b[0m \u001b[0;34m\u001b[0m\u001b[0m\n\u001b[1;32m     23\u001b[0m             loss = train_single_example(input_tensor, target_tensor, enc, dec,\n\u001b[0;32m---> 24\u001b[0;31m                                         encoder_optimizer, decoder_optimizer, criterion)\n\u001b[0m\u001b[1;32m     25\u001b[0m             \u001b[0mepoch_loss\u001b[0m \u001b[0;34m+=\u001b[0m \u001b[0mloss\u001b[0m\u001b[0;34m\u001b[0m\u001b[0;34m\u001b[0m\u001b[0m\n\u001b[1;32m     26\u001b[0m \u001b[0;34m\u001b[0m\u001b[0m\n",
            "\u001b[0;32m<ipython-input-69-c8146beecd60>\u001b[0m in \u001b[0;36mtrain_single_example\u001b[0;34m(input_tensor, target_tensor, enc, dec, enc_optimizer, dec_optimizer, criterion)\u001b[0m\n\u001b[1;32m     35\u001b[0m     \u001b[0mloss\u001b[0m \u001b[0;34m=\u001b[0m \u001b[0mcriterion\u001b[0m\u001b[0;34m(\u001b[0m\u001b[0mdecoder_outputs\u001b[0m\u001b[0;34m,\u001b[0m \u001b[0mcriterion_target\u001b[0m\u001b[0;34m)\u001b[0m\u001b[0;34m\u001b[0m\u001b[0;34m\u001b[0m\u001b[0m\n\u001b[1;32m     36\u001b[0m \u001b[0;34m\u001b[0m\u001b[0m\n\u001b[0;32m---> 37\u001b[0;31m     \u001b[0mloss\u001b[0m\u001b[0;34m.\u001b[0m\u001b[0mbackward\u001b[0m\u001b[0;34m(\u001b[0m\u001b[0;34m)\u001b[0m\u001b[0;34m\u001b[0m\u001b[0;34m\u001b[0m\u001b[0m\n\u001b[0m\u001b[1;32m     38\u001b[0m \u001b[0;34m\u001b[0m\u001b[0m\n\u001b[1;32m     39\u001b[0m     \u001b[0menc_optimizer\u001b[0m\u001b[0;34m.\u001b[0m\u001b[0mstep\u001b[0m\u001b[0;34m(\u001b[0m\u001b[0;34m)\u001b[0m\u001b[0;34m\u001b[0m\u001b[0;34m\u001b[0m\u001b[0m\n",
            "\u001b[0;32m/usr/local/lib/python3.6/dist-packages/torch/tensor.py\u001b[0m in \u001b[0;36mbackward\u001b[0;34m(self, gradient, retain_graph, create_graph)\u001b[0m\n\u001b[1;32m    219\u001b[0m                 \u001b[0mretain_graph\u001b[0m\u001b[0;34m=\u001b[0m\u001b[0mretain_graph\u001b[0m\u001b[0;34m,\u001b[0m\u001b[0;34m\u001b[0m\u001b[0;34m\u001b[0m\u001b[0m\n\u001b[1;32m    220\u001b[0m                 create_graph=create_graph)\n\u001b[0;32m--> 221\u001b[0;31m         \u001b[0mtorch\u001b[0m\u001b[0;34m.\u001b[0m\u001b[0mautograd\u001b[0m\u001b[0;34m.\u001b[0m\u001b[0mbackward\u001b[0m\u001b[0;34m(\u001b[0m\u001b[0mself\u001b[0m\u001b[0;34m,\u001b[0m \u001b[0mgradient\u001b[0m\u001b[0;34m,\u001b[0m \u001b[0mretain_graph\u001b[0m\u001b[0;34m,\u001b[0m \u001b[0mcreate_graph\u001b[0m\u001b[0;34m)\u001b[0m\u001b[0;34m\u001b[0m\u001b[0;34m\u001b[0m\u001b[0m\n\u001b[0m\u001b[1;32m    222\u001b[0m \u001b[0;34m\u001b[0m\u001b[0m\n\u001b[1;32m    223\u001b[0m     \u001b[0;32mdef\u001b[0m \u001b[0mregister_hook\u001b[0m\u001b[0;34m(\u001b[0m\u001b[0mself\u001b[0m\u001b[0;34m,\u001b[0m \u001b[0mhook\u001b[0m\u001b[0;34m)\u001b[0m\u001b[0;34m:\u001b[0m\u001b[0;34m\u001b[0m\u001b[0;34m\u001b[0m\u001b[0m\n",
            "\u001b[0;32m/usr/local/lib/python3.6/dist-packages/torch/autograd/__init__.py\u001b[0m in \u001b[0;36mbackward\u001b[0;34m(tensors, grad_tensors, retain_graph, create_graph, grad_variables)\u001b[0m\n\u001b[1;32m    130\u001b[0m     Variable._execution_engine.run_backward(\n\u001b[1;32m    131\u001b[0m         \u001b[0mtensors\u001b[0m\u001b[0;34m,\u001b[0m \u001b[0mgrad_tensors_\u001b[0m\u001b[0;34m,\u001b[0m \u001b[0mretain_graph\u001b[0m\u001b[0;34m,\u001b[0m \u001b[0mcreate_graph\u001b[0m\u001b[0;34m,\u001b[0m\u001b[0;34m\u001b[0m\u001b[0;34m\u001b[0m\u001b[0m\n\u001b[0;32m--> 132\u001b[0;31m         allow_unreachable=True)  # allow_unreachable flag\n\u001b[0m\u001b[1;32m    133\u001b[0m \u001b[0;34m\u001b[0m\u001b[0m\n\u001b[1;32m    134\u001b[0m \u001b[0;34m\u001b[0m\u001b[0m\n",
            "\u001b[0;31mKeyboardInterrupt\u001b[0m: "
          ]
        }
      ]
    },
    {
      "cell_type": "markdown",
      "metadata": {
        "id": "Exq6p6XtXJvH"
      },
      "source": [
        "## Improving the Simple Model\n",
        "\n",
        "We can improve this simple model in various ways, many of them are very simple:  \n",
        "\n",
        "* Using a bidirectional GRU in the encoder instead of a unidirectional one.\n",
        "* Using stack RNNs.\n",
        "* Using pretrained embeddings, such as GloVe, Instead of our randomly initialized embeddings.\n",
        "* Using [dropout](https://machinelearningmastery.com/dropout-for-regularizing-deep-neural-networks/). It is especially beneficial with small datasets, like ours. \n",
        "* Decoding with beam search.\n",
        "* Larger batch size and better tokenization, as we already mentioned.\n",
        "\n",
        "In this assignment, we won't use any of those. Instead, we will implement an attention mechanism as we saw in class."
      ]
    },
    {
      "cell_type": "markdown",
      "metadata": {
        "id": "v4ORq7MKaOuq"
      },
      "source": [
        "## Attention Seq2seq Model\n",
        "In this part we will introduce attention to our model, and implement a model like the one we saw in class. In this v2.0 model we will use the same encoder, so we'll just implement an improved decoder."
      ]
    },
    {
      "cell_type": "markdown",
      "metadata": {
        "id": "ZBvVh5AhbdcK"
      },
      "source": [
        "### Question 2\n",
        "Implement the `forward` method of `DecoderAttention`. You can copy parts of your code from the `forward` method of `DecoderSimple`.\n",
        " Note that there is no single canonical implementation of attention in seq2seq. You can take inspiration from the class slides, from Jay Alammar, or from any source of your choosing. But you have to utilize the encoder outputs at each timestep of the decoder.\n",
        " \n",
        "Don't forget to address the `evaluation_mode` parameter, as the input to `GRUCell` could depend on whether we are training or evaluating. It is your choice if and how to use teacher forcing during training, but at least some usage of teacher forcing is highly recommended."
      ]
    },
    {
      "cell_type": "code",
      "metadata": {
        "id": "ceTj8ATUcnb6"
      },
      "source": [
        "class DecoderAttention(DecoderSimple):\n",
        "    def __init__(self, input_size, hidden_size, vocab, enc_hidden_size, **kwargs):\n",
        "        super().__init__(input_size, hidden_size, vocab, **kwargs)\n",
        "\n",
        "        # for attention\n",
        "        self.enc_hidden_size = enc_hidden_size\n",
        "        self.W_a = nn.Linear(self.enc_hidden_size, self.hidden_size)\n",
        "\n",
        "        # for output\n",
        "        self.W_s = nn.Linear(self.hidden_size + self.enc_hidden_size, self.output_size)\n",
        "\n",
        "    def forward(self, targets, h, enc_outputs, evaluation_mode=False, **kwargs):\n",
        "        ### YOUR CODE HERE\n",
        "        # initializing\n",
        "        outputs = []\n",
        "        decoder_hidden = self.W_p(h).squeeze(0)\n",
        "        decoder_input = self.embedding(torch.tensor([SOS_IDX], device=device))\n",
        "        enc_outputs = enc_outputs.squeeze()\n",
        "        weighted_enc_outputs = self.W_a(enc_outputs) # took out of step as this doesn't change\n",
        "\n",
        "        def step(decoder_input, decoder_hidden, enc_outputs):\n",
        "          # Get first hidden state.\n",
        "          decoder_hidden = self.gru_cell(decoder_input, decoder_hidden).squeeze()\n",
        "          # Calc the score function and alpha as shown in class:\n",
        "          score = torch.mv(weighted_enc_outputs, decoder_hidden)\n",
        "          alpha = F.softmax(score)\n",
        "          # c now contains the wighted encoder hidden states.\n",
        "          c = torch.sum(enc_outputs * alpha[:,None], dim = 0)\n",
        "\n",
        "          concat_c_h = torch.cat((decoder_hidden, c))\n",
        "          decoder_output = self.W_s(concat_c_h).unsqueeze(0)\n",
        "          decoder_hidden = decoder_hidden.unsqueeze(0)\n",
        "          return decoder_hidden, decoder_output\n",
        "\n",
        "        if evaluation_mode:\n",
        "         for i in range(200):\n",
        "           # run the grucell\n",
        "           decoder_hidden, decoder_output = step(decoder_input, decoder_hidden, enc_outputs)\n",
        "           outputs.append(decoder_output)\n",
        "           # prepare for next step\n",
        "           decoder_input = self.embedding(decoder_output.argmax(-1))\n",
        "           if EOS_IDX == torch.argmax(decoder_output, dim=1):\n",
        "             break\n",
        "        \n",
        "        else:\n",
        "          for target in targets:\n",
        "            # run the grucell\n",
        "            decoder_hidden, decoder_output = step(decoder_input, decoder_hidden, enc_outputs)\n",
        "            outputs.append(decoder_output)\n",
        "            decoder_input = self.embedding(target)\n",
        "\n",
        "        outputs = torch.cat(outputs)\n",
        "        ### --------------\n",
        "        return outputs"
      ],
      "execution_count": 18,
      "outputs": []
    },
    {
      "cell_type": "markdown",
      "metadata": {
        "id": "yyYrNgOLv0LO"
      },
      "source": [
        "### Testing Question 2\n",
        "To test your implementation of the attention model, you can run the following cell. Note that we expect a dev accuracy of at least 40 sometime until epoch 40 (could be a lot earlier). Your code will be run with several initial seeds, and therefore the 40 dev accuracy is expected on average.  \n",
        "Use the `nn.CrossEntropyLoss` criterion.\n",
        "\n",
        "To compare implementations during debugging, you can use the `set_random_seeds()` function.\n",
        "\n",
        "**Add the output figure, `ROOT/figures/attention_decoder.png`, to your written solution pdf file!** "
      ]
    },
    {
      "cell_type": "code",
      "metadata": {
        "colab": {
          "base_uri": "https://localhost:8080/",
          "height": 1000
        },
        "id": "4Bf78m56wX3F",
        "outputId": "6eb3fdf3-a06a-41c0-c57c-5aff24b8e740"
      },
      "source": [
        "print('--- Training Attention Model ---')\n",
        "enc2 = EncoderRNN(enc_input_size, enc_hidden_size, vocab_natural).to(device)\n",
        "dec2 = DecoderAttention(dec_input_size, dec_hidden_size, vocab_logical, enc_hidden_size).to(device)\n",
        "criterion2 = nn.CrossEntropyLoss()\n",
        "\n",
        "losses2, train_accs2, dev_accs2 = train(n_epochs, train_sentences, dev_sentences,\n",
        "                                        enc2, dec2, criterion2)\n",
        "plot_accuracies(train_accs2, dev_accs2, 'attention_decoder')"
      ],
      "execution_count": 74,
      "outputs": [
        {
          "output_type": "stream",
          "text": [
            "--- Training Attention Model ---\n"
          ],
          "name": "stdout"
        },
        {
          "output_type": "stream",
          "text": [
            "/usr/local/lib/python3.6/dist-packages/ipykernel_launcher.py:26: UserWarning: Implicit dimension choice for softmax has been deprecated. Change the call to include dim=X as an argument.\n"
          ],
          "name": "stderr"
        },
        {
          "output_type": "stream",
          "text": [
            "Epoch #1:\n",
            "Loss: 0.0219\n",
            "Train accuracy: 0.054\n",
            "Dev accuracy: 0.020\n",
            "Time elapsed (remaining): 0m 25s (16m 33s)\n",
            "Epoch #2:\n",
            "Loss: 0.0085\n",
            "Train accuracy: 0.216\n",
            "Dev accuracy: 0.110\n",
            "Time elapsed (remaining): 0m 54s (17m 8s)\n",
            "Epoch #3:\n",
            "Loss: 0.0056\n",
            "Train accuracy: 0.330\n",
            "Dev accuracy: 0.150\n",
            "Time elapsed (remaining): 1m 23s (17m 12s)\n",
            "Epoch #4:\n",
            "Loss: 0.0036\n",
            "Train accuracy: 0.450\n",
            "Dev accuracy: 0.270\n",
            "Time elapsed (remaining): 1m 52s (16m 54s)\n",
            "Epoch #5:\n",
            "Loss: 0.0039\n",
            "Train accuracy: 0.412\n",
            "Dev accuracy: 0.220\n",
            "Time elapsed (remaining): 2m 19s (16m 18s)\n",
            "Epoch #6:\n",
            "Loss: 0.0034\n",
            "Train accuracy: 0.530\n",
            "Dev accuracy: 0.300\n",
            "Time elapsed (remaining): 2m 48s (15m 52s)\n",
            "Epoch #7:\n",
            "Loss: 0.0024\n",
            "Train accuracy: 0.576\n",
            "Dev accuracy: 0.330\n",
            "Time elapsed (remaining): 3m 16s (15m 28s)\n",
            "Epoch #8:\n",
            "Loss: 0.0021\n",
            "Train accuracy: 0.522\n",
            "Dev accuracy: 0.300\n",
            "Time elapsed (remaining): 3m 46s (15m 4s)\n",
            "Epoch #9:\n",
            "Loss: 0.0018\n",
            "Train accuracy: 0.624\n",
            "Dev accuracy: 0.350\n",
            "Time elapsed (remaining): 4m 13s (14m 33s)\n",
            "Epoch #10:\n",
            "Loss: 0.0016\n",
            "Train accuracy: 0.648\n",
            "Dev accuracy: 0.310\n",
            "Time elapsed (remaining): 4m 40s (14m 2s)\n",
            "Epoch #11:\n",
            "Loss: 0.0016\n",
            "Train accuracy: 0.572\n",
            "Dev accuracy: 0.290\n",
            "Time elapsed (remaining): 5m 9s (13m 36s)\n",
            "Epoch #12:\n",
            "Loss: 0.0018\n",
            "Train accuracy: 0.636\n",
            "Dev accuracy: 0.330\n",
            "Time elapsed (remaining): 5m 37s (13m 6s)\n",
            "Epoch #13:\n",
            "Loss: 0.0013\n",
            "Train accuracy: 0.560\n",
            "Dev accuracy: 0.240\n",
            "Time elapsed (remaining): 6m 4s (12m 36s)\n",
            "Epoch #14:\n",
            "Loss: 0.0012\n",
            "Train accuracy: 0.704\n",
            "Dev accuracy: 0.380\n",
            "Time elapsed (remaining): 6m 31s (12m 7s)\n",
            "Epoch #15:\n",
            "Loss: 0.0011\n",
            "Train accuracy: 0.706\n",
            "Dev accuracy: 0.390\n",
            "Time elapsed (remaining): 6m 58s (11m 37s)\n",
            "Epoch #16:\n",
            "Loss: 0.0011\n",
            "Train accuracy: 0.726\n",
            "Dev accuracy: 0.410\n",
            "Time elapsed (remaining): 7m 26s (11m 9s)\n",
            "Epoch #17:\n",
            "Loss: 0.0009\n",
            "Train accuracy: 0.788\n",
            "Dev accuracy: 0.450\n",
            "Time elapsed (remaining): 7m 53s (10m 40s)\n",
            "Epoch #18:\n",
            "Loss: 0.0007\n",
            "Train accuracy: 0.786\n",
            "Dev accuracy: 0.400\n",
            "Time elapsed (remaining): 8m 20s (10m 11s)\n",
            "Epoch #19:\n",
            "Loss: 0.0008\n",
            "Train accuracy: 0.750\n",
            "Dev accuracy: 0.390\n",
            "Time elapsed (remaining): 8m 47s (9m 42s)\n",
            "Epoch #20:\n",
            "Loss: 0.0008\n",
            "Train accuracy: 0.776\n",
            "Dev accuracy: 0.400\n",
            "Time elapsed (remaining): 9m 15s (9m 15s)\n",
            "Epoch #21:\n",
            "Loss: 0.0010\n",
            "Train accuracy: 0.770\n",
            "Dev accuracy: 0.420\n",
            "Time elapsed (remaining): 9m 42s (8m 46s)\n",
            "Epoch #22:\n",
            "Loss: 0.0008\n",
            "Train accuracy: 0.770\n",
            "Dev accuracy: 0.380\n",
            "Time elapsed (remaining): 10m 9s (8m 18s)\n",
            "Epoch #23:\n",
            "Loss: 0.0007\n",
            "Train accuracy: 0.728\n",
            "Dev accuracy: 0.360\n",
            "Time elapsed (remaining): 10m 37s (7m 51s)\n",
            "Epoch #24:\n",
            "Loss: 0.0007\n",
            "Train accuracy: 0.724\n",
            "Dev accuracy: 0.340\n",
            "Time elapsed (remaining): 11m 4s (7m 23s)\n",
            "Epoch #25:\n",
            "Loss: 0.0008\n",
            "Train accuracy: 0.804\n",
            "Dev accuracy: 0.430\n",
            "Time elapsed (remaining): 11m 33s (6m 55s)\n",
            "Epoch #26:\n",
            "Loss: 0.0011\n",
            "Train accuracy: 0.670\n",
            "Dev accuracy: 0.290\n",
            "Time elapsed (remaining): 12m 0s (6m 28s)\n",
            "Epoch #27:\n",
            "Loss: 0.0008\n",
            "Train accuracy: 0.772\n",
            "Dev accuracy: 0.460\n",
            "Time elapsed (remaining): 12m 29s (6m 0s)\n",
            "Epoch #28:\n",
            "Loss: 0.0006\n",
            "Train accuracy: 0.754\n",
            "Dev accuracy: 0.380\n",
            "Time elapsed (remaining): 12m 56s (5m 32s)\n",
            "Epoch #29:\n",
            "Loss: 0.0006\n",
            "Train accuracy: 0.812\n",
            "Dev accuracy: 0.440\n",
            "Time elapsed (remaining): 13m 23s (5m 4s)\n",
            "Epoch #30:\n",
            "Loss: 0.0008\n",
            "Train accuracy: 0.744\n",
            "Dev accuracy: 0.360\n",
            "Time elapsed (remaining): 13m 51s (4m 37s)\n",
            "Epoch #31:\n",
            "Loss: 0.0006\n",
            "Train accuracy: 0.806\n",
            "Dev accuracy: 0.450\n",
            "Time elapsed (remaining): 14m 20s (4m 9s)\n",
            "Epoch #32:\n",
            "Loss: 0.0005\n",
            "Train accuracy: 0.834\n",
            "Dev accuracy: 0.380\n",
            "Time elapsed (remaining): 14m 48s (3m 42s)\n",
            "Epoch #33:\n",
            "Loss: 0.0005\n",
            "Train accuracy: 0.654\n",
            "Dev accuracy: 0.340\n",
            "Time elapsed (remaining): 15m 16s (3m 14s)\n",
            "Epoch #34:\n",
            "Loss: 0.0006\n",
            "Train accuracy: 0.858\n",
            "Dev accuracy: 0.390\n",
            "Time elapsed (remaining): 15m 44s (2m 46s)\n",
            "Epoch #35:\n",
            "Loss: 0.0004\n",
            "Train accuracy: 0.826\n",
            "Dev accuracy: 0.380\n",
            "Time elapsed (remaining): 16m 12s (2m 18s)\n",
            "Epoch #36:\n",
            "Loss: 0.0007\n",
            "Train accuracy: 0.754\n",
            "Dev accuracy: 0.380\n",
            "Time elapsed (remaining): 16m 39s (1m 51s)\n",
            "Epoch #37:\n",
            "Loss: 0.0007\n",
            "Train accuracy: 0.776\n",
            "Dev accuracy: 0.390\n",
            "Time elapsed (remaining): 17m 7s (1m 23s)\n",
            "Epoch #38:\n",
            "Loss: 0.0007\n",
            "Train accuracy: 0.634\n",
            "Dev accuracy: 0.290\n",
            "Time elapsed (remaining): 17m 34s (0m 55s)\n",
            "Epoch #39:\n",
            "Loss: 0.0006\n",
            "Train accuracy: 0.836\n",
            "Dev accuracy: 0.400\n",
            "Time elapsed (remaining): 18m 1s (0m 27s)\n",
            "Epoch #40:\n",
            "Loss: 0.0004\n",
            "Train accuracy: 0.856\n",
            "Dev accuracy: 0.470\n",
            "Time elapsed (remaining): 18m 29s (0m 0s)\n"
          ],
          "name": "stdout"
        },
        {
          "output_type": "display_data",
          "data": {
            "image/png": "[encoded data removed]",
            "text/plain": [
              "<Figure size 432x288 with 1 Axes>"
            ]
          },
          "metadata": {
            "tags": [],
            "needs_background": "light"
          }
        }
      ]
    },
    {
      "cell_type": "markdown",
      "metadata": {
        "id": "iYOx52MBxLAu"
      },
      "source": [
        "## Attention Seq2seq Model with Copying\n",
        "As we saw in class, we can still improve upon the attention model. This can be done by adding a 'copying' mechanism, which could be viewed as a variant on pointer networks ([Vinyals et al, 2015](https://arxiv.org/abs/1506.03134)). Before implementing this model, we suggest that you review slides [52-61](https://www.cs.tau.ac.il/~joberant/teaching/nlp_fall_2019_2020/files/08_seq2seq.pdf#page=52) from the seq2seq lecture slides.\n",
        "\n",
        "As with the regular attention model, we will use the same encoder, and improve upon the decoder."
      ]
    },
    {
      "cell_type": "markdown",
      "metadata": {
        "id": "-YQTmTP_0luQ"
      },
      "source": [
        "### Question 3.1\n",
        "Implement the `forward` method of `DecoderAttentionWithCopying`. You can copy parts of your code from the `forward` method of `DecoderAttention`.\n",
        " As in the regular attention model and even more so, there is no single canonical implementation of attention with copying in seq2seq. You can take inspiration from the class slides, from section 3.2 of Data Recombination for Neural Semantic Parsing [(Jia & Liang, 2016)](https://stanford.edu/~robinjia/pdf/jia2016recombination.pdf), or from any source of your choosing.\n",
        " \n",
        "Unlike the previous two decoders, here you can also add define additional weights/parameters in the `__init__`, in case you find it beneficial to your model.\n",
        "\n",
        "In addition, feel free to use `get_index_from_parallel_index` from your vocab object. You can assume the call `vocab_logical.set_parallel_vocab(vocab_natural)` was already made.\n",
        "\n",
        "\n",
        "Don't forget to address the `evaluation_mode` parameter, as the input to `GRUCell` could depend on whether we are training or evaluating. It is your choice if and how to use teacher forcing during training, but at least some usage of teacher forcing is highly recommended."
      ]
    },
    {
      "cell_type": "code",
      "metadata": {
        "id": "JoSaTgWF4etu"
      },
      "source": [
        "class DecoderAttentionWithCopying(DecoderAttention):\n",
        "    def __init__(self, input_size, hidden_size, vocab, enc_hidden_size, **kwargs):\n",
        "        super().__init__(input_size, hidden_size, vocab, enc_hidden_size, **kwargs)\n",
        "\n",
        "        self.uses_copying = True\n",
        "\n",
        "        # PLACE TO ADD ADDITIONAL WEIGHTS (optional)\n",
        "\n",
        "        self.w_1 = nn.Linear(self.hidden_size, 1)\n",
        "        self.w_2 = nn.Linear(self.enc_hidden_size, 1)\n",
        "        self.w_3 = nn.Linear(self.input_size, 1)\n",
        "\n",
        "        self.Unk_tensor = torch.tensor([UNK_IDX]).to(device)\n",
        "\n",
        "        # ------------------------------------------\n",
        "\n",
        "\n",
        "    def forward(self, targets, h, enc_outputs, enc_input, evaluation_mode=False):\n",
        "        ### YOUR CODE HERE\n",
        "        # initializing\n",
        "        outputs = []\n",
        "        decoder_hidden = self.W_p(h).squeeze(0)\n",
        "        decoder_input = self.embedding(torch.tensor([SOS_IDX], device=device))\n",
        "        enc_outputs = enc_outputs.squeeze()\n",
        "        weighted_enc_outputs = self.W_a(enc_outputs)\n",
        "        iter = range(200) if evaluation_mode else targets # to avoid code duplication, only difference is how we generate input for next step.\n",
        "        for target in iter:\n",
        "          # run the grucell\n",
        "          decoder_hidden, decoder_output = self.step(decoder_input, decoder_hidden, enc_outputs, weighted_enc_outputs, enc_input)\n",
        "          outputs.append(decoder_output)\n",
        "          # prepare for next step\n",
        "          token, decoder_input = self.get_decoder_input(evaluation_mode, target, decoder_output)\n",
        "          # print(decoder_input.shape)\n",
        "          if token.item() is EOS_IDX and evaluation_mode:\n",
        "            break\n",
        "        outputs = torch.stack(outputs)\n",
        "        ### --------------\n",
        "        return outputs\n",
        "\n",
        "    def get_decoder_input(self, evaluation_mode, target, decoder_output):\n",
        "      if not evaluation_mode:\n",
        "        return target, self.embedding(target)\n",
        "      prediction = decoder_output.argmax(-1)\n",
        "      # if argmax > vocab size, means model wants to copy.\n",
        "      if prediction >= self.vocab.n_tokens:\n",
        "        return self.Unk_tensor, self.embedding(self.Unk_tensor)\n",
        "      return prediction, self.embedding(prediction).unsqueeze(0)           \n",
        "\n",
        "\n",
        "    def step(self, decoder_input, decoder_hidden, enc_outputs, weighted_enc_outputs, enc_input):\n",
        "      # Get first hidden state.\n",
        "      # print(decoder_input.shape, decoder_hidden.shape)\n",
        "      decoder_hidden = self.gru_cell(decoder_input, decoder_hidden).squeeze()\n",
        "      # Calc the score function and alpha as shown in class:\n",
        "      score = torch.mv(weighted_enc_outputs, decoder_hidden)\n",
        "      alpha = F.softmax(score, dim = 0).squeeze()\n",
        "      # c now contains the wighted encoder hidden states.\n",
        "      c = torch.sum(enc_outputs * alpha[:,None], dim = 0)\n",
        "\n",
        "      # calculate generation probabilities:\n",
        "      concat_c_h = torch.cat((decoder_hidden, c))\n",
        "      decoder_output = self.W_s(concat_c_h).softmax(dim=0)\n",
        "\n",
        "      # Calculate pgen\n",
        "      pgen = torch.sigmoid(self.w_1(decoder_hidden) + self.w_2(c) + self.w_3(decoder_input.squeeze()))\n",
        "      # scale both vectors accourding to pgen\n",
        "      decoder_output = decoder_output.mul(pgen)\n",
        "      copy_output = alpha.mul(1 - pgen)\n",
        "\n",
        "      # Now need to bin scores if word appears more than once, or appears in input dictionary\n",
        "      gen_tensor, copy_tensor = self.marginalize_weights(enc_input, copy_output, decoder_output)\n",
        "\n",
        "      # finally, we concat the copy and generation probabilities\n",
        "      output = torch.cat((gen_tensor, copy_tensor))\n",
        "      decoder_hidden = decoder_hidden.unsqueeze(0)\n",
        "      return decoder_hidden, output\n",
        "\n",
        "\n",
        "    def marginalize_weights(self, enc_input, copy_output, decoder_output):        \n",
        "      for input_idx in enc_input.unique():\n",
        "        # If this word repeted in input, accumilate the sum of it's probabilities\n",
        "        appearances = (enc_input.squeeze() == input_idx).nonzero(as_tuple = False).squeeze()\n",
        "        accumilated_weights = copy_output.gather(dim=0, index=appearances.squeeze()).sum()\n",
        "        # If the input word also appears in the output distribution we add this as well\n",
        "        output_vocab_index = self.vocab.get_index_from_parallel_index(input_idx)\n",
        "        if output_vocab_index is not UNK_IDX:\n",
        "          accumilated_weights = accumilated_weights + decoder_output[output_vocab_index]\n",
        "          decoder_output[output_vocab_index] = accumilated_weights\n",
        "        # finally we scatter the accumilated prob to all of the appearances in input\n",
        "        copy_output.scatter(dim = 0, index = appearances, src = accumilated_weights)\n",
        "      \n",
        "      return decoder_output, copy_output\n"
      ],
      "execution_count": 64,
      "outputs": []
    },
    {
      "cell_type": "markdown",
      "metadata": {
        "id": "JOTfWXDQ5Okd"
      },
      "source": [
        "### Question 3.2\n",
        "In addition to the new decoder, a change in `train_single_example` is also required, as now `criterion_target` should not be composed solely from `target_tensor`. Also, note that with `DecoderAttentionWithCopying` we use the [`BCEWithLogitsLoss`](https://pytorch.org/docs/stable/nn.html#bcewithlogitsloss) loss criterion (see later in notebook for details).\n",
        "\n",
        "Implement the `if dec.uses_copying:` clause of `train_single_example`.\n",
        "\n",
        "In general this part should help the loss function (`criterion`) understand what tokens from the input (natural sentence) are desirable for copying (in addition to the actual target token from the query string). This is done by defining `criterion_target` accordingly.\n",
        "\n"
      ]
    },
    {
      "cell_type": "markdown",
      "metadata": {
        "id": "O85tAjNx-Y8g"
      },
      "source": [
        "### Question 3.3\n",
        "\n",
        "Finally, we need add code in `evaluate`. Implement the `if dec.uses_copying:` clause of `evaluate`.\n",
        "\n",
        "This code should enable the model to:\n",
        "* Decode tokens from the input natural sentence (as well as from the query string, as was done until now).\n",
        "* Copy input tokens that do not exist in our vocabulary.\n",
        "\n",
        "This question is quite open ended, so feel free to experiment, as long as your code follows the two guidelines above.\n",
        "\n",
        "For simplicity, we added below a set of all the words that are entities (i.e worth considering copying) and occur in both the natural sentences and the the query strings. This set is based on the words from the training set and the dev set, as well as from the hidden test set.\n",
        "\n",
        "You may add additional functions/code to be used in the `if dec.uses_copying:` clause of `evaluate` if you wish.\n",
        "\n"
      ]
    },
    {
      "cell_type": "code",
      "metadata": {
        "id": "3IjgrryJFaaX"
      },
      "source": [
        "# in practice, entities are probably decduced by some pretrained NER model\n",
        "all_entities = {\n",
        "    'rochester', 'kentucky', 'potomac', 'georgia', 'boulder', 'missouri', 'mississippi',\n",
        "    'sacramento', 'island', 'mount', 'houston', 'guadalupe', 'baton', 'north', 'spokane', 'salem',\n",
        "    'alabama', 'utah', 'erie', 'scotts', 'death', 'springfield', 'idaho', 'ohio', 'francisco',\n",
        "    'valley', 'jose', 'rio', 'new', 'chicago', 'florida', 'diego', 'indiana', 'detroit', 'montana',\n",
        "    'seattle', 'south', 'wyoming', 'texas', 'alaska', 'dakota', 'orleans', 'minnesota', 'riverside',\n",
        "    'delaware', 'plano', 'pittsburgh', 'hampshire', 'california', 'flint', 'nevada', 'west',\n",
        "    'massachusetts', 'york', 'illinois', 'me', 'oregon', 'mckinley', 'tucson', 'chattahoochee',\n",
        "    'des', 'arizona', 'michigan', 'maine', 'maryland', 'rhode', 'kalamazoo', 'tennessee', 'hawaii',\n",
        "    'virginia', 'salt', 'atlanta', 'austin', 'miami', 'antonio', 'carolina', 'san', 'durham',\n",
        "    'jersey', 'colorado', 'indianapolis', 'dover', 'vermont', 'albany', 'rouge', 'kansas', 'usa',\n",
        "    'grande', 'red', 'pennsylvania', 'nebraska', 'wayne', 'washington', 'tempe', 'mexico',\n",
        "    'montgomery', 'platte', 'whitney', 'arkansas', 'fort', 'oklahoma', 'boston', 'dallas',\n",
        "    'portland', 'louisiana', 'wisconsin', 'minneapolis', 'denver', 'peak', 'moines', 'dc',\n",
        "    'columbus', 'iowa'\n",
        "}\n",
        "\n",
        "def is_entity(token):\n",
        "    return token in all_entities\n",
        "\n",
        "\n",
        "# PLACE TO ADD OPTIONAL ADDITIONAL CODE TO BE USED IN THE COPYING CLAUSE OF `evaluate`\n",
        "\n",
        "\n",
        "# ------------------------------------------------------------------------------------\n"
      ],
      "execution_count": 21,
      "outputs": []
    },
    {
      "cell_type": "markdown",
      "metadata": {
        "id": "CKhXuu5mFpo2"
      },
      "source": [
        "### Testing Question 3\n",
        "To test your implementation of the attention model with copying, you can run the following cell. Note that we expect a dev accuracy of at least 4 sometime until epoch 40 (could be a lot earlier), **as well as at least of couple of points better than the regular attention model**. Your code will be run with several initial seeds, and therefore the 40 dev accuracy and the slight improvement over the regular attention model are expected on average.  \n",
        "Use the `BCEWithLogitsLoss` criterion.\n",
        "\n",
        "To compare implementations during debugging, you can use the `set_random_seeds()` function.\n",
        "\n",
        "**Add the output figure, `ROOT/figures/attention_with_copying_decoder.png`, to your written solution pdf file!** "
      ]
    },
    {
      "cell_type": "code",
      "metadata": {
        "id": "H3XpCNNvGQqz",
        "colab": {
          "base_uri": "https://localhost:8080/",
          "height": 1000
        },
        "outputId": "9fcbdb7c-3506-4410-bcd5-594c212a52e0"
      },
      "source": [
        "print('--- Training Copying Model ---')\n",
        "set_random_seeds()\n",
        "vocab_logical.set_parallel_vocab(vocab_natural)\n",
        "enc3 = EncoderRNN(enc_input_size, enc_hidden_size, vocab_natural).to(device)\n",
        "dec3 = DecoderAttentionWithCopying(dec_input_size, dec_hidden_size, vocab_logical, enc_hidden_size).to(device)\n",
        "criterion3 = nn.BCEWithLogitsLoss()\n",
        "\n",
        "losses3, train_accs3, dev_accs3 = train(n_epochs, train_sentences, dev_sentences, enc3, dec3, criterion3)\n",
        "plot_accuracies(train_accs3, dev_accs3, 'attention_with_copying_decoder')\n"
      ],
      "execution_count": 70,
      "outputs": [
        {
          "output_type": "stream",
          "text": [
            "--- Training Copying Model ---\n",
            "parallel_index_mapping = {0: 0, 1: 1, 2: 2, 9: 14, 17: 19, 26: 26, 37: 31, 39: 32, 41: 33, 43: 24, 45: 36, 48: 39, 54: 41, 59: 42, 64: 45, 65: 46, 67: 48, 68: 49, 69: 51, 70: 52, 73: 54, 84: 62, 85: 63, 86: 64, 89: 65, 91: 67, 94: 68, 96: 70, 98: 72, 99: 73, 100: 74, 102: 75, 103: 76, 104: 77, 107: 78, 108: 79, 109: 80, 110: 81, 112: 82, 113: 83, 114: 84, 115: 85, 118: 86, 119: 87, 120: 88, 121: 89, 123: 90, 126: 91, 127: 96, 136: 93, 137: 94, 138: 95, 145: 98, 147: 99, 148: 100, 151: 101, 155: 102, 158: 103, 162: 104, 163: 105, 167: 107, 168: 109, 169: 110, 171: 111, 172: 112, 174: 113, 175: 114, 176: 115, 177: 116, 178: 117}\n",
            "other_vocab.i2t = {0: '<SOS>', 1: '<EOS>', 2: '<UNK>', 3: 'what', 4: 'is', 5: 'the', 6: 'highest', 7: 'point', 8: 'in', 9: 'florida', 10: '?', 11: 'are', 12: 'high', 13: 'points', 14: 'of', 15: 'states', 16: 'surrounding', 17: 'mississippi', 18: 'state', 19: 'has', 20: 'shortest', 21: 'river', 22: 'tallest', 23: 'mountain', 24: 'united', 25: 'capital', 26: 'maine', 27: 'populations', 28: 'through', 29: 'which', 30: 'run', 31: 'name', 32: 'all', 33: 'lakes', 34: 'us', 35: 'border', 36: 'traverses', 37: 'alaska', 38: 'population', 39: 'illinois', 40: 'rivers', 41: 'colorado', 42: 'does', 43: 'usa', 44: 'city', 45: 'denver', 46: 'located', 47: 'lowest', 48: 'texas', 49: 'how', 50: 'many', 51: 'have', 52: 'a', 53: 'called', 54: 'rochester', 55: 'capitals', 56: 'that', 57: 'people', 58: 'live', 59: 'austin', 60: 'named', 61: 'size', 62: 'major', 63: 'cities', 64: 'kentucky', 65: 'oregon', 66: 'elevation', 67: 'south', 68: 'carolina', 69: 'atlanta', 70: 'utah', 71: 'runs', 72: 'most', 73: 'sacramento', 74: 'you', 75: 'tell', 76: 'me', 77: 'smallest', 78: 'peak', 79: 'long', 80: 'largest', 81: 'area', 82: 'longest', 83: 'where', 84: 'new', 85: 'mount', 86: 'california', 87: 'borders', 88: 'citizens', 89: 'alabama', 90: 'biggest', 91: 'iowa', 92: 'cross', 93: 'flows', 94: 'kansas', 95: 'density', 96: 'pennsylvania', 97: 'not', 98: 'nebraska', 99: 'rhode', 100: 'island', 101: 'with', 102: 'york', 103: 'tennessee', 104: 'arizona', 105: 'neighboring', 106: 'for', 107: 'michigan', 108: 'montana', 109: 'washington', 110: 'dc', 111: 'populous', 112: 'hawaii', 113: 'san', 114: 'delaware', 115: 'louisiana', 116: 'country', 117: 'give', 118: 'north', 119: 'des', 120: 'moines', 121: 'wyoming', 122: 'bordering', 123: 'idaho', 124: 'running', 125: 'it', 126: 'springfield', 127: 'missouri', 128: 'populated', 129: 'number', 130: 'average', 131: 'per', 132: 'square', 133: 'km', 134: 'america', 135: 'total', 136: 'wisconsin', 137: 'indiana', 138: 'arkansas', 139: 'passes', 140: 'no', 141: 'kilometers', 142: 'flow', 143: 'higher', 144: 'than', 145: 'ohio', 146: 'whose', 147: 'dallas', 148: 'massachusetts', 149: 'length', 150: 'can', 151: 'minnesota', 152: 'by', 153: 'greatest', 154: 'there', 155: 'virginia', 156: 'big', 157: 'contains', 158: 'dakota', 159: 'towns', 160: 'next', 161: 'to', 162: 'boulder', 163: 'nevada', 164: 'show', 165: 'combined', 166: 'least', 167: 'seattle', 168: 'albany', 169: 'hampshire', 170: 'sparsest', 171: 'mexico', 172: 'maryland', 173: 'do', 174: 'valley', 175: 'rio', 176: 'grande', 177: 'boston', 178: 'kalamazoo', 179: 'one', 180: 'other', 181: 'excluding', 182: 'and', 183: 'on'}\n",
            "other_vocab.t2i = {'<SOS>': 0, '<EOS>': 1, '<UNK>': 2, 'what': 3, 'is': 4, 'the': 5, 'highest': 6, 'point': 7, 'in': 8, 'florida': 9, '?': 10, 'are': 11, 'high': 12, 'points': 13, 'of': 14, 'states': 15, 'surrounding': 16, 'mississippi': 17, 'state': 18, 'has': 19, 'shortest': 20, 'river': 21, 'tallest': 22, 'mountain': 23, 'united': 24, 'capital': 25, 'maine': 26, 'populations': 27, 'through': 28, 'which': 29, 'run': 30, 'name': 31, 'all': 32, 'lakes': 33, 'us': 34, 'border': 35, 'traverses': 36, 'alaska': 37, 'population': 38, 'illinois': 39, 'rivers': 40, 'colorado': 41, 'does': 42, 'usa': 43, 'city': 44, 'denver': 45, 'located': 46, 'lowest': 47, 'texas': 48, 'how': 49, 'many': 50, 'have': 51, 'a': 52, 'called': 53, 'rochester': 54, 'capitals': 55, 'that': 56, 'people': 57, 'live': 58, 'austin': 59, 'named': 60, 'size': 61, 'major': 62, 'cities': 63, 'kentucky': 64, 'oregon': 65, 'elevation': 66, 'south': 67, 'carolina': 68, 'atlanta': 69, 'utah': 70, 'runs': 71, 'most': 72, 'sacramento': 73, 'you': 74, 'tell': 75, 'me': 76, 'smallest': 77, 'peak': 78, 'long': 79, 'largest': 80, 'area': 81, 'longest': 82, 'where': 83, 'new': 84, 'mount': 85, 'california': 86, 'borders': 87, 'citizens': 88, 'alabama': 89, 'biggest': 90, 'iowa': 91, 'cross': 92, 'flows': 93, 'kansas': 94, 'density': 95, 'pennsylvania': 96, 'not': 97, 'nebraska': 98, 'rhode': 99, 'island': 100, 'with': 101, 'york': 102, 'tennessee': 103, 'arizona': 104, 'neighboring': 105, 'for': 106, 'michigan': 107, 'montana': 108, 'washington': 109, 'dc': 110, 'populous': 111, 'hawaii': 112, 'san': 113, 'delaware': 114, 'louisiana': 115, 'country': 116, 'give': 117, 'north': 118, 'des': 119, 'moines': 120, 'wyoming': 121, 'bordering': 122, 'idaho': 123, 'running': 124, 'it': 125, 'springfield': 126, 'missouri': 127, 'populated': 128, 'number': 129, 'average': 130, 'per': 131, 'square': 132, 'km': 133, 'america': 134, 'total': 135, 'wisconsin': 136, 'indiana': 137, 'arkansas': 138, 'passes': 139, 'no': 140, 'kilometers': 141, 'flow': 142, 'higher': 143, 'than': 144, 'ohio': 145, 'whose': 146, 'dallas': 147, 'massachusetts': 148, 'length': 149, 'can': 150, 'minnesota': 151, 'by': 152, 'greatest': 153, 'there': 154, 'virginia': 155, 'big': 156, 'contains': 157, 'dakota': 158, 'towns': 159, 'next': 160, 'to': 161, 'boulder': 162, 'nevada': 163, 'show': 164, 'combined': 165, 'least': 166, 'seattle': 167, 'albany': 168, 'hampshire': 169, 'sparsest': 170, 'mexico': 171, 'maryland': 172, 'do': 173, 'valley': 174, 'rio': 175, 'grande': 176, 'boston': 177, 'kalamazoo': 178, 'one': 179, 'other': 180, 'excluding': 181, 'and': 182, 'on': 183}\n",
            "****************\n",
            "tensor([[-1.5303e+01, -1.1532e+01, -1.4972e+01,  ...,  0.0000e+00,\n",
            "          0.0000e+00,  0.0000e+00],\n",
            "        [-1.6274e+01, -1.5157e+01, -1.5750e+01,  ...,  0.0000e+00,\n",
            "          0.0000e+00,  0.0000e+00],\n",
            "        [-1.3293e+01, -1.6002e+01, -1.3169e+01,  ...,  0.0000e+00,\n",
            "          2.8026e-45,  2.2650e-06],\n",
            "        ...,\n",
            "        [-8.8163e+00, -7.7734e+00, -4.9827e+00,  ...,  7.9601e-33,\n",
            "          2.7745e-18,  2.4837e-04],\n",
            "        [-8.8176e+00, -7.7647e+00, -4.9803e+00,  ...,  7.0805e-33,\n",
            "          2.5998e-18,  2.4694e-04],\n",
            "        [-8.8190e+00, -7.7560e+00, -4.9780e+00,  ...,  6.3025e-33,\n",
            "          2.4371e-18,  2.4551e-04]], device='cuda:0')\n",
            "###########################\n",
            "input: what is the combined population of all 50 states ? 10\n",
            "words in output vocab: 118\n",
            "output shape: torch.Size([200, 129])\n",
            "arg maxes:  tensor([  3,   4,   5,   6,   4, 128,   4,  11,   6, 128,   4, 128, 128, 128,\n",
            "        128, 128, 128, 128, 128, 128, 128, 128, 128, 128, 128, 128, 128, 128,\n",
            "        128, 128, 128, 128, 128, 128, 128, 128, 128, 128, 128, 128, 128, 128,\n",
            "        128, 128, 128, 128, 128, 128, 128, 128, 128, 128, 128, 128, 128, 128,\n",
            "        128, 128, 128, 128, 128, 128, 128, 128, 128, 128, 128, 128, 128, 128,\n",
            "        128, 128, 128, 128, 128, 128, 128, 128, 128, 128, 128, 128, 128, 128,\n",
            "        128, 128, 128, 128, 128, 128, 128, 128, 128, 128, 128, 128, 128, 128,\n",
            "        128, 128, 128, 128, 128, 128, 128, 128, 128, 128, 128, 128, 128, 128,\n",
            "        128, 128, 128, 128, 128, 128, 128, 128, 128, 128, 128, 128, 128, 128,\n",
            "        128, 128, 128, 128, 128, 128, 128, 128, 128, 128, 128, 128, 128, 128,\n",
            "        128, 128, 128, 128, 128, 128, 128, 128, 128, 128, 128, 128, 128, 128,\n",
            "        128, 128, 128, 128, 128, 128, 128, 128, 128, 128, 128, 128, 128, 128,\n",
            "        128, 128, 128, 128, 128, 128, 128, 128, 128, 128, 128, 128, 128, 128,\n",
            "        128, 128, 128, 128, 128, 128, 128, 128, 128, 128, 128, 128, 128, 128,\n",
            "        128, 128, 128, 128], device='cuda:0')\n",
            "token =  tensor(10, device='cuda:0')\n"
          ],
          "name": "stdout"
        },
        {
          "output_type": "error",
          "ename": "IndexError",
          "evalue": "ignored",
          "traceback": [
            "\u001b[0;31m---------------------------------------------------------------------------\u001b[0m",
            "\u001b[0;31mIndexError\u001b[0m                                Traceback (most recent call last)",
            "\u001b[0;32m<ipython-input-70-69da13433783>\u001b[0m in \u001b[0;36m<module>\u001b[0;34m()\u001b[0m\n\u001b[1;32m      6\u001b[0m \u001b[0mcriterion3\u001b[0m \u001b[0;34m=\u001b[0m \u001b[0mnn\u001b[0m\u001b[0;34m.\u001b[0m\u001b[0mBCEWithLogitsLoss\u001b[0m\u001b[0;34m(\u001b[0m\u001b[0;34m)\u001b[0m\u001b[0;34m\u001b[0m\u001b[0;34m\u001b[0m\u001b[0m\n\u001b[1;32m      7\u001b[0m \u001b[0;34m\u001b[0m\u001b[0m\n\u001b[0;32m----> 8\u001b[0;31m \u001b[0mlosses3\u001b[0m\u001b[0;34m,\u001b[0m \u001b[0mtrain_accs3\u001b[0m\u001b[0;34m,\u001b[0m \u001b[0mdev_accs3\u001b[0m \u001b[0;34m=\u001b[0m \u001b[0mtrain\u001b[0m\u001b[0;34m(\u001b[0m\u001b[0mn_epochs\u001b[0m\u001b[0;34m,\u001b[0m \u001b[0mtrain_sentences\u001b[0m\u001b[0;34m,\u001b[0m \u001b[0mdev_sentences\u001b[0m\u001b[0;34m,\u001b[0m \u001b[0menc3\u001b[0m\u001b[0;34m,\u001b[0m \u001b[0mdec3\u001b[0m\u001b[0;34m,\u001b[0m \u001b[0mcriterion3\u001b[0m\u001b[0;34m)\u001b[0m\u001b[0;34m\u001b[0m\u001b[0;34m\u001b[0m\u001b[0m\n\u001b[0m\u001b[1;32m      9\u001b[0m \u001b[0mplot_accuracies\u001b[0m\u001b[0;34m(\u001b[0m\u001b[0mtrain_accs3\u001b[0m\u001b[0;34m,\u001b[0m \u001b[0mdev_accs3\u001b[0m\u001b[0;34m,\u001b[0m \u001b[0;34m'attention_with_copying_decoder'\u001b[0m\u001b[0;34m)\u001b[0m\u001b[0;34m\u001b[0m\u001b[0;34m\u001b[0m\u001b[0m\n",
            "\u001b[0;32m<ipython-input-13-94a7e2ef05f2>\u001b[0m in \u001b[0;36mtrain\u001b[0;34m(n_epochs, train_set, dev_set, enc, dec, criterion, patience, save, print_sentences)\u001b[0m\n\u001b[1;32m     29\u001b[0m         \u001b[0mepoch_loss\u001b[0m \u001b[0;34m=\u001b[0m \u001b[0;36m0\u001b[0m\u001b[0;34m\u001b[0m\u001b[0;34m\u001b[0m\u001b[0m\n\u001b[1;32m     30\u001b[0m \u001b[0;34m\u001b[0m\u001b[0m\n\u001b[0;32m---> 31\u001b[0;31m         \u001b[0mtrain_accuracy\u001b[0m \u001b[0;34m=\u001b[0m \u001b[0mevaluate\u001b[0m\u001b[0;34m(\u001b[0m\u001b[0mtrain_set\u001b[0m\u001b[0;34m,\u001b[0m \u001b[0menc\u001b[0m\u001b[0;34m,\u001b[0m \u001b[0mdec\u001b[0m\u001b[0;34m,\u001b[0m \u001b[0mprint_sentences\u001b[0m\u001b[0;34m)\u001b[0m\u001b[0;34m\u001b[0m\u001b[0;34m\u001b[0m\u001b[0m\n\u001b[0m\u001b[1;32m     32\u001b[0m         \u001b[0mtrain_accuracies\u001b[0m\u001b[0;34m.\u001b[0m\u001b[0mappend\u001b[0m\u001b[0;34m(\u001b[0m\u001b[0mtrain_accuracy\u001b[0m\u001b[0;34m)\u001b[0m\u001b[0;34m\u001b[0m\u001b[0;34m\u001b[0m\u001b[0m\n\u001b[1;32m     33\u001b[0m \u001b[0;34m\u001b[0m\u001b[0m\n",
            "\u001b[0;32m<ipython-input-62-09181536dbcb>\u001b[0m in \u001b[0;36mevaluate\u001b[0;34m(sentences, enc, dec, print_sentences)\u001b[0m\n\u001b[1;32m     38\u001b[0m                   \u001b[0;32melse\u001b[0m\u001b[0;34m:\u001b[0m\u001b[0;34m\u001b[0m\u001b[0;34m\u001b[0m\u001b[0m\n\u001b[1;32m     39\u001b[0m                     \u001b[0mprint\u001b[0m\u001b[0;34m(\u001b[0m\u001b[0;34m'token = '\u001b[0m\u001b[0;34m,\u001b[0m \u001b[0midx\u001b[0m \u001b[0;34m-\u001b[0m \u001b[0mmax_output_token\u001b[0m\u001b[0;34m,\u001b[0m \u001b[0msep\u001b[0m \u001b[0;34m=\u001b[0m \u001b[0;34m' '\u001b[0m\u001b[0;34m)\u001b[0m\u001b[0;34m\u001b[0m\u001b[0;34m\u001b[0m\u001b[0m\n\u001b[0;32m---> 40\u001b[0;31m                     \u001b[0mdecoded_tokens\u001b[0m\u001b[0;34m.\u001b[0m\u001b[0mappend\u001b[0m\u001b[0;34m(\u001b[0m\u001b[0minput_words\u001b[0m\u001b[0;34m[\u001b[0m\u001b[0midx\u001b[0m \u001b[0;34m-\u001b[0m \u001b[0mmax_output_token\u001b[0m\u001b[0;34m]\u001b[0m\u001b[0;34m)\u001b[0m\u001b[0;34m\u001b[0m\u001b[0;34m\u001b[0m\u001b[0m\n\u001b[0m\u001b[1;32m     41\u001b[0m \u001b[0;34m\u001b[0m\u001b[0m\n\u001b[1;32m     42\u001b[0m                 \u001b[0;31m# decoded_tokens = [dec.vocab.i2t[idx.item()] if idx < max_output_token else input_words[idx - max_output_token]  for idx in decoded_indices]\u001b[0m\u001b[0;34m\u001b[0m\u001b[0;34m\u001b[0m\u001b[0;34m\u001b[0m\u001b[0m\n",
            "\u001b[0;31mIndexError\u001b[0m: list index out of range"
          ]
        }
      ]
    },
    {
      "cell_type": "markdown",
      "metadata": {
        "id": "fxddxo_72LXX"
      },
      "source": [
        "## On Reaching State of the Art Results\n",
        "In Data Recombination for Neural Semantic Parsing [(Jia & Liang, 2016)](https://stanford.edu/~robinjia/pdf/jia2016recombination.pdf#page=7), the results were much better than our model - 85.0 (and even higher with some additional methods they introduced). A substantial part of this gap could be reduced by applying the rather simple suggestions from the [Improving the Simple Model](https://colab.research.google.com/drive/1LuVweHOfi3qQkipZHTki9cyI_TOcRQyQ#scrollTo=Exq6p6XtXJvH&line=2&uniqifier=1) cell. So when you are confident that your implementation is working, feel free to see how close you can get to these impressive results!\n"
      ]
    }
  ]
}